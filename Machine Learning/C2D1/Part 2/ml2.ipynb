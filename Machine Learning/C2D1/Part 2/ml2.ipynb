{
 "cells": [
  {
   "cell_type": "markdown",
   "metadata": {
    "deletable": false,
    "editable": false,
    "nbgrader": {
     "cell_type": "markdown",
     "checksum": "fbfaeccba7c78624daa81efaeac3384d",
     "grade": false,
     "grade_id": "cell-9bac3e2eaf76d09a",
     "locked": true,
     "schema_version": 3,
     "solution": false,
     "task": false
    }
   },
   "source": [
    "# Linear Regression From Scratch\n",
    "In this notebook you will implement linear regression using the least squares method.\n",
    "\n",
    "The notebook will guide you in the general steps. You may use only numpy, pandas, and matplotlib for this exercise.\n",
    "\n",
    "#### Math Background\n",
    "The task is to solve linear regression for the data set of ```x``` and ```y```. That is, fit a line y to the data such that ```y = a + bx + e```. Where a and b are coefficents and e is an error term.\n",
    "\n",
    "We know that ```b = SUM ( xi - x_mean) * (yi - y_mean) / SUM (xi - x_mean)^2``` where ```xi```, and ```yi``` are the indivdual observations and ```x_mean```, ```y_mean``` are means of all ```xi``` and ```yi```.\n",
    "\n",
    "So a reasonable solution then for a fit is ```a = y_mean - b * x_mean```.\n",
    "\n",
    "\n",
    "#### Implementation Steps\n",
    "1. Load the file ```reg_data.csv```\n",
    "2. Display the data with a scatter plot. Write a markdown cell and comment on the structure of the data and what kind of line you think will fit the data. \n",
    "3. Implement a function of the least squares method.\n",
    "4. Plot the predictions from your function.\n",
    "5. Comment on the output of your function. Does it make sense? Can it be made better? If yes, how?"
   ]
  },
  {
   "cell_type": "code",
   "execution_count": 15,
   "metadata": {},
   "outputs": [],
   "source": [
    "#import the minimum packages\n",
    "import numpy as np\n",
    "import pandas as pd\n",
    "import matplotlib.pyplot as plt\n",
    "from sklearn.model_selection import train_test_split"
   ]
  },
  {
   "cell_type": "code",
   "execution_count": 16,
   "metadata": {
    "deletable": false,
    "nbgrader": {
     "cell_type": "code",
     "checksum": "2c551326ada620ac865e47a09cfd6e88",
     "grade": false,
     "grade_id": "cell-4104816f50e4844b",
     "locked": false,
     "schema_version": 3,
     "solution": true,
     "task": false
    }
   },
   "outputs": [
    {
     "data": {
      "text/html": [
       "<div>\n",
       "<style scoped>\n",
       "    .dataframe tbody tr th:only-of-type {\n",
       "        vertical-align: middle;\n",
       "    }\n",
       "\n",
       "    .dataframe tbody tr th {\n",
       "        vertical-align: top;\n",
       "    }\n",
       "\n",
       "    .dataframe thead th {\n",
       "        text-align: right;\n",
       "    }\n",
       "</style>\n",
       "<table border=\"1\" class=\"dataframe\">\n",
       "  <thead>\n",
       "    <tr style=\"text-align: right;\">\n",
       "      <th></th>\n",
       "      <th>X</th>\n",
       "      <th>Y</th>\n",
       "    </tr>\n",
       "  </thead>\n",
       "  <tbody>\n",
       "    <tr>\n",
       "      <th>0</th>\n",
       "      <td>32.502345</td>\n",
       "      <td>31.707006</td>\n",
       "    </tr>\n",
       "    <tr>\n",
       "      <th>1</th>\n",
       "      <td>53.426804</td>\n",
       "      <td>68.777596</td>\n",
       "    </tr>\n",
       "    <tr>\n",
       "      <th>2</th>\n",
       "      <td>61.530358</td>\n",
       "      <td>62.562382</td>\n",
       "    </tr>\n",
       "    <tr>\n",
       "      <th>3</th>\n",
       "      <td>47.475640</td>\n",
       "      <td>71.546632</td>\n",
       "    </tr>\n",
       "    <tr>\n",
       "      <th>4</th>\n",
       "      <td>59.813208</td>\n",
       "      <td>87.230925</td>\n",
       "    </tr>\n",
       "    <tr>\n",
       "      <th>...</th>\n",
       "      <td>...</td>\n",
       "      <td>...</td>\n",
       "    </tr>\n",
       "    <tr>\n",
       "      <th>95</th>\n",
       "      <td>50.030174</td>\n",
       "      <td>81.536991</td>\n",
       "    </tr>\n",
       "    <tr>\n",
       "      <th>96</th>\n",
       "      <td>49.239765</td>\n",
       "      <td>72.111832</td>\n",
       "    </tr>\n",
       "    <tr>\n",
       "      <th>97</th>\n",
       "      <td>50.039576</td>\n",
       "      <td>85.232007</td>\n",
       "    </tr>\n",
       "    <tr>\n",
       "      <th>98</th>\n",
       "      <td>48.149859</td>\n",
       "      <td>66.224958</td>\n",
       "    </tr>\n",
       "    <tr>\n",
       "      <th>99</th>\n",
       "      <td>25.128485</td>\n",
       "      <td>53.454394</td>\n",
       "    </tr>\n",
       "  </tbody>\n",
       "</table>\n",
       "<p>100 rows × 2 columns</p>\n",
       "</div>"
      ],
      "text/plain": [
       "            X          Y\n",
       "0   32.502345  31.707006\n",
       "1   53.426804  68.777596\n",
       "2   61.530358  62.562382\n",
       "3   47.475640  71.546632\n",
       "4   59.813208  87.230925\n",
       "..        ...        ...\n",
       "95  50.030174  81.536991\n",
       "96  49.239765  72.111832\n",
       "97  50.039576  85.232007\n",
       "98  48.149859  66.224958\n",
       "99  25.128485  53.454394\n",
       "\n",
       "[100 rows x 2 columns]"
      ]
     },
     "execution_count": 16,
     "metadata": {},
     "output_type": "execute_result"
    }
   ],
   "source": [
    "#load and inspect the data\n",
    "df = pd.read_csv('reg_data.csv')\n",
    "df \n",
    "# YOUR CODE HERE\n",
    "#raise NotImplementedError()\n"
   ]
  },
  {
   "cell_type": "code",
   "execution_count": 17,
   "metadata": {
    "deletable": false,
    "editable": false,
    "nbgrader": {
     "cell_type": "code",
     "checksum": "5a44bd6c555f034b17e8b48663c46fbf",
     "grade": true,
     "grade_id": "cell-3676b87d8fc79bbd",
     "locked": true,
     "points": 1,
     "schema_version": 3,
     "solution": false,
     "task": false
    }
   },
   "outputs": [],
   "source": [
    "assert df.shape == (100,2)"
   ]
  },
  {
   "cell_type": "code",
   "execution_count": 21,
   "metadata": {
    "deletable": false,
    "nbgrader": {
     "cell_type": "code",
     "checksum": "ec83d674d316f06d99e4a62881fe0d91",
     "grade": false,
     "grade_id": "cell-7f576e50392bc5e9",
     "locked": false,
     "schema_version": 3,
     "solution": true,
     "task": false
    }
   },
   "outputs": [
    {
     "data": {
      "image/png": "[encoded data removed]",
      "text/plain": [
       "<Figure size 432x288 with 1 Axes>"
      ]
     },
     "metadata": {
      "needs_background": "light"
     },
     "output_type": "display_data"
    }
   ],
   "source": [
    "#plot the data (scatter)\n",
    "# YOUR CODE HERE\n",
    "X = np.random.normal(5.0, 1.0, 100)\n",
    "y = np.random.normal(10.0, 2.0, 100)\n",
    "\n",
    "plt.scatter(x, y)\n",
    "plt.show()\n"
   ]
  },
  {
   "cell_type": "code",
   "execution_count": 22,
   "metadata": {
    "deletable": false,
    "nbgrader": {
     "cell_type": "code",
     "checksum": "d16bf3084328cb8a753640746109deb6",
     "grade": false,
     "grade_id": "cell-54891567ed3179cb",
     "locked": false,
     "schema_version": 3,
     "solution": true,
     "task": false
    }
   },
   "outputs": [
    {
     "data": {
      "text/plain": [
       "(array([7.24834508, 4.01000291, 4.01967884, 5.78305174, 4.8764399 ,\n",
       "        3.82099468, 5.89604105, 5.4270647 , 5.56398211, 4.18596663,\n",
       "        4.22142476, 3.11694902, 5.13038686, 5.05858498, 7.01641961,\n",
       "        4.60525686, 4.40462159, 4.52947846, 5.78315244, 5.62851479,\n",
       "        4.11681825, 4.74894954, 6.0989638 , 4.41952503, 5.03143282,\n",
       "        4.87963728, 6.16423087, 4.03100518, 1.91804899, 3.72891737,\n",
       "        4.61528529, 4.16616042, 5.0338582 , 5.49910256, 5.0034954 ,\n",
       "        6.06477649, 3.91066975, 4.10040801, 5.86526823, 5.52331249,\n",
       "        5.31625986, 4.8051549 , 2.99139664, 5.24062763, 3.69685235,\n",
       "        4.3993962 , 5.55781069, 5.01134678, 5.90341568, 5.34973047,\n",
       "        4.07495967, 5.52680957, 4.46205455, 6.63811068, 6.9840049 ,\n",
       "        5.01794634, 5.57505689, 2.82123388, 4.5540192 , 4.0916213 ,\n",
       "        4.41302619, 7.30419554, 4.13539842, 4.62602107, 4.08447231,\n",
       "        3.60820056, 5.81283779, 4.45595561, 5.29521593, 4.36184211,\n",
       "        3.78383808, 4.08709208, 4.31188281, 4.94100037, 5.1594792 ,\n",
       "        2.72400021, 5.64244158, 4.48872913, 4.48972593, 5.63230969,\n",
       "        3.90983413, 4.28477552, 3.58925105, 5.40282912, 5.34397666,\n",
       "        5.1949646 , 5.6651517 , 5.52384931, 4.22056278, 5.74864705,\n",
       "        5.07289899, 6.65020594, 4.95244321, 4.65417352, 3.89889731,\n",
       "        4.19853866, 5.4953822 , 4.5063106 , 5.77575718, 4.79463948]),\n",
       " array([ 9.12677997,  7.81870616,  9.39095176, 10.91147729,  6.43291444,\n",
       "         7.84417361, 10.68353282,  7.719569  ,  9.21198471, 12.17494293,\n",
       "        11.31401769, 13.83433113, 11.06680307, 10.77187303,  9.54043943,\n",
       "        10.3876306 ,  6.45107661, 11.48016429, 10.94600156, 10.22897818,\n",
       "         9.48053038, 12.81867718,  9.60066991, 14.75101054, 11.20913433,\n",
       "        12.31621781, 10.95044594,  9.17941225, 10.82173226, 11.45214675,\n",
       "        12.39560169,  9.38351932, 11.39189549, 11.68979955,  8.56800001,\n",
       "         8.77460145, 10.94540659, 10.3380131 ,  7.18277649, 11.72064314,\n",
       "         6.09192033,  7.76452242, 10.77310818,  8.20112889, 11.25301704,\n",
       "        11.39606707,  8.0489677 , 10.33819907,  9.08844203,  6.62732389,\n",
       "         8.87056187, 12.17373008, 10.8174444 , 11.11147349, 10.17435516,\n",
       "         8.14926886, 10.74506598, 11.05808489,  8.65484705,  8.8628729 ,\n",
       "        10.56860435, 11.05430714,  7.52815278,  8.76493745, 10.44397874,\n",
       "         9.37374276,  8.45392998, 10.91674281, 10.00356574, 10.56160741,\n",
       "         9.18714969,  8.49854985, 10.61889322, 11.39802849,  9.13784164,\n",
       "         9.14475922, 11.10388749, 10.71909693, 10.32697721,  9.02381526,\n",
       "         6.79662629,  7.50083927, 11.08105999,  5.87845103,  9.45816136,\n",
       "         8.51662895,  9.73497329,  7.92443777,  7.30557738,  8.1137512 ,\n",
       "         6.8253002 ,  9.9753704 ,  8.196833  , 11.54877411, 14.23616814,\n",
       "         7.88601368, 13.12231045,  7.58537022, 10.18238425, 10.45730192]))"
      ]
     },
     "execution_count": 22,
     "metadata": {},
     "output_type": "execute_result"
    }
   ],
   "source": [
    "# YOUR CODE HERE\n",
    "X, y"
   ]
  },
  {
   "cell_type": "code",
   "execution_count": 23,
   "metadata": {},
   "outputs": [],
   "source": [
    "X_train, X_test, y_train, y_test = train_test_split(X, y, test_size=0.33, random_state=42)"
   ]
  },
  {
   "cell_type": "code",
   "execution_count": 24,
   "metadata": {},
   "outputs": [
    {
     "data": {
      "text/plain": [
       "(array([1.91804899, 4.65417352, 3.82099468, 5.81283779, 3.60820056,\n",
       "        6.06477649, 4.40462159, 5.34973047, 5.0034954 , 5.4270647 ,\n",
       "        4.19853866, 4.03100518, 5.62851479, 4.28477552, 4.87963728,\n",
       "        4.13539842, 5.05858498, 5.03143282, 5.78305174, 4.52947846,\n",
       "        5.86526823, 5.56398211, 4.48972593, 5.89604105, 4.08447231,\n",
       "        3.91066975, 5.74864705, 5.57505689, 4.79463948, 6.9840049 ,\n",
       "        5.24062763, 4.07495967, 4.45595561, 5.55781069, 5.29521593,\n",
       "        7.30419554, 4.5063106 , 5.63230969, 4.8051549 , 4.5540192 ,\n",
       "        5.90341568, 5.77575718, 2.82123388, 2.72400021, 5.0338582 ,\n",
       "        3.89889731, 4.0916213 , 4.62602107, 5.34397666, 4.10040801,\n",
       "        3.72891737, 4.01000291, 4.46205455, 4.74894954, 4.01967884,\n",
       "        4.41952503, 5.52384931, 6.65020594, 5.1594792 , 5.6651517 ,\n",
       "        3.58925105, 4.11681825, 4.41302619, 4.08709208, 7.01641961,\n",
       "        4.95244321, 5.52680957]),\n",
       " array([10.82173226, 11.54877411,  7.84417361,  8.45392998,  9.37374276,\n",
       "         8.77460145,  6.45107661,  6.62732389,  8.56800001,  7.719569  ,\n",
       "         7.88601368,  9.17941225, 10.22897818,  7.50083927, 12.31621781,\n",
       "         7.52815278, 10.77187303, 11.20913433, 10.91147729, 11.48016429,\n",
       "         7.18277649,  9.21198471, 10.32697721, 10.68353282, 10.44397874,\n",
       "        10.94540659,  8.1137512 , 10.74506598, 10.45730192, 10.17435516,\n",
       "         8.20112889,  8.87056187, 10.91674281,  8.0489677 , 10.00356574,\n",
       "        11.05430714,  7.58537022,  9.02381526,  7.76452242,  8.65484705,\n",
       "         9.08844203, 10.18238425, 11.05808489,  9.14475922, 11.39189549,\n",
       "        14.23616814,  8.8628729 ,  8.76493745,  9.45816136, 10.3380131 ,\n",
       "        11.45214675,  7.81870616, 10.8174444 , 12.81867718,  9.39095176,\n",
       "        14.75101054,  7.92443777,  9.9753704 ,  9.13784164,  9.73497329,\n",
       "        11.08105999,  9.48053038, 10.56860435,  8.49854985,  9.54043943,\n",
       "         8.196833  , 12.17373008]),\n",
       " array([5.40282912, 6.63811068, 3.78383808, 4.3993962 , 3.69685235,\n",
       "        5.52331249, 6.0989638 , 3.90983413, 4.22142476, 7.24834508,\n",
       "        5.78315244, 4.61528529, 4.94100037, 5.49910256, 5.07289899,\n",
       "        4.8764399 , 5.64244158, 4.48872913, 5.13038686, 4.16616042,\n",
       "        5.01794634, 4.22056278, 6.16423087, 2.99139664, 4.36184211,\n",
       "        4.60525686, 5.31625986, 5.4953822 , 4.18596663, 4.31188281,\n",
       "        3.11694902, 5.01134678, 5.1949646 ]),\n",
       " array([ 5.87845103, 11.11147349,  9.18714969, 11.39606707, 11.25301704,\n",
       "        11.72064314,  9.60066991,  6.79662629, 11.31401769,  9.12677997,\n",
       "        10.94600156, 12.39560169, 11.39802849, 11.68979955,  6.8253002 ,\n",
       "         6.43291444, 11.10388749, 10.71909693, 11.06680307,  9.38351932,\n",
       "         8.14926886,  7.30557738, 10.95044594, 10.77310818, 10.56160741,\n",
       "        10.3876306 ,  6.09192033, 13.12231045, 12.17494293, 10.61889322,\n",
       "        13.83433113, 10.33819907,  8.51662895]))"
      ]
     },
     "execution_count": 24,
     "metadata": {},
     "output_type": "execute_result"
    }
   ],
   "source": [
    "X_train,  y_train, X_test, y_test"
   ]
  },
  {
   "cell_type": "code",
   "execution_count": 25,
   "metadata": {
    "deletable": false,
    "editable": false,
    "nbgrader": {
     "cell_type": "code",
     "checksum": "913a83d14800f18572c1736c6c376038",
     "grade": true,
     "grade_id": "cell-161d857ab77810d3",
     "locked": true,
     "points": 1,
     "schema_version": 3,
     "solution": false,
     "task": false
    }
   },
   "outputs": [
    {
     "ename": "AssertionError",
     "evalue": "",
     "output_type": "error",
     "traceback": [
      "\u001b[1;31m---------------------------------------------------------------------------\u001b[0m",
      "\u001b[1;31mAssertionError\u001b[0m                            Traceback (most recent call last)",
      "Input \u001b[1;32mIn [25]\u001b[0m, in \u001b[0;36m<module>\u001b[1;34m\u001b[0m\n\u001b[1;32m----> 1\u001b[0m \u001b[38;5;28;01massert\u001b[39;00m X_train\u001b[38;5;241m.\u001b[39mshape \u001b[38;5;241m==\u001b[39m (\u001b[38;5;241m80\u001b[39m,)\n\u001b[0;32m      2\u001b[0m \u001b[38;5;28;01massert\u001b[39;00m X_test\u001b[38;5;241m.\u001b[39mshape \u001b[38;5;241m==\u001b[39m (\u001b[38;5;241m20\u001b[39m,)\n\u001b[0;32m      3\u001b[0m \u001b[38;5;28;01massert\u001b[39;00m y_train\u001b[38;5;241m.\u001b[39mshape \u001b[38;5;241m==\u001b[39m (\u001b[38;5;241m80\u001b[39m,)\n",
      "\u001b[1;31mAssertionError\u001b[0m: "
     ]
    }
   ],
   "source": [
    "assert X_train.shape == (80,)\n",
    "assert X_test.shape == (20,)\n",
    "assert y_train.shape == (80,)\n",
    "assert y_test.shape == (20,)"
   ]
  },
  {
   "cell_type": "code",
   "execution_count": null,
   "metadata": {
    "deletable": false,
    "nbgrader": {
     "cell_type": "code",
     "checksum": "7f783828630939c2e095a32479fa8a95",
     "grade": false,
     "grade_id": "cell-d5e750d407949b20",
     "locked": false,
     "schema_version": 3,
     "solution": true,
     "task": false
    }
   },
   "outputs": [],
   "source": [
    "#implement a least squares function to find a, b\n",
    "\n",
    "x_mean = 0\n",
    "y_mean = 0\n",
    "b_upper = 0\n",
    "b_lower = 0\n",
    "b = 0\n",
    "a = 0\n",
    "\n",
    "# YOUR CODE HERE\n",
    "raise NotImplementedError()\n",
    "print(b)\n",
    "print(a)"
   ]
  },
  {
   "cell_type": "code",
   "execution_count": null,
   "metadata": {
    "deletable": false,
    "editable": false,
    "nbgrader": {
     "cell_type": "code",
     "checksum": "f99a446fb5ac3e0d1da4cbb9b795eacb",
     "grade": true,
     "grade_id": "cell-c7fea6e45dc92701",
     "locked": true,
     "points": 5,
     "schema_version": 3,
     "solution": false,
     "task": false
    }
   },
   "outputs": [],
   "source": [
    "assert abs(a - 7.72) <=0.03\n",
    "assert abs(b - 1.32) <=0.03"
   ]
  },
  {
   "cell_type": "code",
   "execution_count": null,
   "metadata": {
    "deletable": false,
    "nbgrader": {
     "cell_type": "code",
     "checksum": "3dfec453f61e443318a83756c5d376ed",
     "grade": false,
     "grade_id": "cell-721384e1a2152077",
     "locked": false,
     "schema_version": 3,
     "solution": true,
     "task": false
    }
   },
   "outputs": [],
   "source": [
    "line = 0\n",
    "x = np.array([])\n",
    "# YOUR CODE HERE\n",
    "raise NotImplementedError()"
   ]
  },
  {
   "cell_type": "code",
   "execution_count": null,
   "metadata": {
    "deletable": false,
    "editable": false,
    "nbgrader": {
     "cell_type": "code",
     "checksum": "08b1f875272b06a1c8562f53f455ad9a",
     "grade": true,
     "grade_id": "cell-71f1201b79ff7e44",
     "locked": true,
     "points": 5,
     "schema_version": 3,
     "solution": false,
     "task": false
    }
   },
   "outputs": [],
   "source": [
    "assert abs(a +3*b - 11.69) <= 0.05\n",
    "assert abs(a +100*b - 140) <= 1"
   ]
  },
  {
   "cell_type": "code",
   "execution_count": null,
   "metadata": {
    "deletable": false,
    "nbgrader": {
     "cell_type": "code",
     "checksum": "190229c08d10f48c9a807e51e6ba8eed",
     "grade": false,
     "grade_id": "cell-e8d9edf92254aa00",
     "locked": false,
     "schema_version": 3,
     "solution": true,
     "task": false
    }
   },
   "outputs": [],
   "source": [
    "# YOUR CODE HERE\n",
    "raise NotImplementedError()"
   ]
  },
  {
   "cell_type": "code",
   "execution_count": null,
   "metadata": {
    "deletable": false,
    "nbgrader": {
     "cell_type": "code",
     "checksum": "de2e61e7563de9bf967c643b32565f9a",
     "grade": false,
     "grade_id": "cell-8b80d3f35ea3b407",
     "locked": false,
     "schema_version": 3,
     "solution": true,
     "task": false
    }
   },
   "outputs": [],
   "source": [
    "#Classify your test data in to classes\n",
    "#if the Y value for a certain X is lower than the line then the class is 0\n",
    "class_0 = []\n",
    "class_1 = []\n",
    "\n",
    "# YOUR CODE HERE\n",
    "raise NotImplementedError()\n",
    "        \n",
    "class_0 = np.array(class_0)\n",
    "class_1 = np.array(class_1)\n",
    "print(class_0.shape)\n",
    "print(class_1.shape)"
   ]
  },
  {
   "cell_type": "code",
   "execution_count": null,
   "metadata": {
    "deletable": false,
    "editable": false,
    "nbgrader": {
     "cell_type": "code",
     "checksum": "1486f3e73b7a9925bfc840c4f84432e7",
     "grade": true,
     "grade_id": "cell-73e31e3494663d82",
     "locked": true,
     "points": 5,
     "schema_version": 3,
     "solution": false,
     "task": false
    }
   },
   "outputs": [],
   "source": [
    "assert 9 < class_0.shape[0] < 13\n",
    "assert 7 < class_1.shape[0] < 11"
   ]
  },
  {
   "cell_type": "code",
   "execution_count": null,
   "metadata": {
    "deletable": false,
    "nbgrader": {
     "cell_type": "code",
     "checksum": "e91f4d245601ab07416f3122d23f9f89",
     "grade": false,
     "grade_id": "cell-db81fd9fa3a21bdf",
     "locked": false,
     "schema_version": 3,
     "solution": true,
     "task": false
    }
   },
   "outputs": [],
   "source": [
    "# YOUR CODE HERE\n",
    "raise NotImplementedError()"
   ]
  }
 ],
 "metadata": {
  "kernelspec": {
   "display_name": "Python 3",
   "language": "python",
   "name": "python3"
  },
  "language_info": {
   "codemirror_mode": {
    "name": "ipython",
    "version": 3
   },
   "file_extension": ".py",
   "mimetype": "text/x-python",
   "name": "python",
   "nbconvert_exporter": "python",
   "pygments_lexer": "ipython3",
   "version": "3.9.7"
  }
 },
 "nbformat": 4,
 "nbformat_minor": 2
}
