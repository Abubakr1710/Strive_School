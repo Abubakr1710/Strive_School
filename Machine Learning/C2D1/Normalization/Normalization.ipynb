{
 "cells": [
  {
   "cell_type": "code",
   "execution_count": 36,
   "id": "222a4913",
   "metadata": {},
   "outputs": [],
   "source": [
    "import numpy as np"
   ]
  },
  {
   "cell_type": "code",
   "execution_count": 37,
   "id": "02afa553",
   "metadata": {},
   "outputs": [],
   "source": [
    "a = np.array([1,2,3,4,5])"
   ]
  },
  {
   "cell_type": "code",
   "execution_count": 38,
   "id": "3b5656eb",
   "metadata": {},
   "outputs": [],
   "source": [
    "z = (a-np.mean(a))/np.std(a)"
   ]
  },
  {
   "cell_type": "code",
   "execution_count": 39,
   "id": "c99b8ff6",
   "metadata": {},
   "outputs": [
    {
     "data": {
      "text/plain": [
       "array([-1.41421356, -0.70710678,  0.        ,  0.70710678,  1.41421356])"
      ]
     },
     "execution_count": 39,
     "metadata": {},
     "output_type": "execute_result"
    }
   ],
   "source": [
    "z"
   ]
  },
  {
   "cell_type": "code",
   "execution_count": 40,
   "id": "54e7bb30",
   "metadata": {},
   "outputs": [
    {
     "data": {
      "text/plain": [
       "0.9999999999999999"
      ]
     },
     "execution_count": 40,
     "metadata": {},
     "output_type": "execute_result"
    }
   ],
   "source": [
    "np.std(z)"
   ]
  },
  {
   "cell_type": "code",
   "execution_count": 41,
   "id": "e7ae578e",
   "metadata": {},
   "outputs": [
    {
     "data": {
      "text/plain": [
       "0.0"
      ]
     },
     "execution_count": 41,
     "metadata": {},
     "output_type": "execute_result"
    }
   ],
   "source": [
    "np.mean(z)"
   ]
  },
  {
   "cell_type": "code",
   "execution_count": 42,
   "id": "141bcbee",
   "metadata": {},
   "outputs": [],
   "source": [
    "from sklearn.preprocessing import StandardScaler"
   ]
  },
  {
   "cell_type": "code",
   "execution_count": 43,
   "id": "25471c64",
   "metadata": {},
   "outputs": [
    {
     "data": {
      "text/plain": [
       "array([1, 2, 3, 4, 5])"
      ]
     },
     "execution_count": 43,
     "metadata": {},
     "output_type": "execute_result"
    }
   ],
   "source": [
    "a"
   ]
  },
  {
   "cell_type": "code",
   "execution_count": 44,
   "id": "eac3aaa4",
   "metadata": {},
   "outputs": [],
   "source": [
    "scaler = StandardScaler()"
   ]
  },
  {
   "cell_type": "code",
   "execution_count": 46,
   "id": "3d8a428f",
   "metadata": {},
   "outputs": [],
   "source": [
    "a = a.reshape(-1,1)"
   ]
  },
  {
   "cell_type": "code",
   "execution_count": 47,
   "id": "ec9524a0",
   "metadata": {},
   "outputs": [
    {
     "data": {
      "text/plain": [
       "(5, 1)"
      ]
     },
     "execution_count": 47,
     "metadata": {},
     "output_type": "execute_result"
    }
   ],
   "source": [
    "a.shape"
   ]
  },
  {
   "cell_type": "code",
   "execution_count": 48,
   "id": "df9b1b02",
   "metadata": {},
   "outputs": [],
   "source": [
    "b = np.array([1,2,3,4,5,6,455,6,66,78,98,8,8])"
   ]
  },
  {
   "cell_type": "code",
   "execution_count": 49,
   "id": "5af5dd0f",
   "metadata": {},
   "outputs": [
    {
     "data": {
      "text/plain": [
       "(13,)"
      ]
     },
     "execution_count": 49,
     "metadata": {},
     "output_type": "execute_result"
    }
   ],
   "source": [
    "b.shape"
   ]
  },
  {
   "cell_type": "code",
   "execution_count": 50,
   "id": "91378590",
   "metadata": {},
   "outputs": [
    {
     "data": {
      "text/plain": [
       "(13, 1)"
      ]
     },
     "execution_count": 50,
     "metadata": {},
     "output_type": "execute_result"
    }
   ],
   "source": [
    "b.reshape(-1,1).shape"
   ]
  },
  {
   "cell_type": "code",
   "execution_count": 51,
   "id": "f36d7564",
   "metadata": {},
   "outputs": [
    {
     "data": {
      "text/plain": [
       "StandardScaler()"
      ]
     },
     "execution_count": 51,
     "metadata": {},
     "output_type": "execute_result"
    }
   ],
   "source": [
    "scaler.fit(a)"
   ]
  },
  {
   "cell_type": "code",
   "execution_count": 52,
   "id": "38729a4a",
   "metadata": {},
   "outputs": [
    {
     "data": {
      "text/plain": [
       "array([3.])"
      ]
     },
     "execution_count": 52,
     "metadata": {},
     "output_type": "execute_result"
    }
   ],
   "source": [
    "scaler.mean_"
   ]
  },
  {
   "cell_type": "code",
   "execution_count": 53,
   "id": "f30c9a22",
   "metadata": {},
   "outputs": [
    {
     "data": {
      "text/plain": [
       "array([[1],\n",
       "       [2],\n",
       "       [3],\n",
       "       [4],\n",
       "       [5]])"
      ]
     },
     "execution_count": 53,
     "metadata": {},
     "output_type": "execute_result"
    }
   ],
   "source": [
    "a # 3 is the mean of a"
   ]
  },
  {
   "cell_type": "code",
   "execution_count": 54,
   "id": "4da65324",
   "metadata": {},
   "outputs": [
    {
     "data": {
      "text/plain": [
       "['__class__',\n",
       " '__delattr__',\n",
       " '__dict__',\n",
       " '__dir__',\n",
       " '__doc__',\n",
       " '__eq__',\n",
       " '__format__',\n",
       " '__ge__',\n",
       " '__getattribute__',\n",
       " '__getstate__',\n",
       " '__gt__',\n",
       " '__hash__',\n",
       " '__init__',\n",
       " '__init_subclass__',\n",
       " '__le__',\n",
       " '__lt__',\n",
       " '__module__',\n",
       " '__ne__',\n",
       " '__new__',\n",
       " '__reduce__',\n",
       " '__reduce_ex__',\n",
       " '__repr__',\n",
       " '__setattr__',\n",
       " '__setstate__',\n",
       " '__sizeof__',\n",
       " '__str__',\n",
       " '__subclasshook__',\n",
       " '__weakref__',\n",
       " '_check_feature_names',\n",
       " '_check_n_features',\n",
       " '_get_param_names',\n",
       " '_get_tags',\n",
       " '_more_tags',\n",
       " '_repr_html_',\n",
       " '_repr_html_inner',\n",
       " '_repr_mimebundle_',\n",
       " '_reset',\n",
       " '_validate_data',\n",
       " 'copy',\n",
       " 'fit',\n",
       " 'fit_transform',\n",
       " 'get_feature_names_out',\n",
       " 'get_params',\n",
       " 'inverse_transform',\n",
       " 'mean_',\n",
       " 'n_features_in_',\n",
       " 'n_samples_seen_',\n",
       " 'partial_fit',\n",
       " 'scale_',\n",
       " 'set_params',\n",
       " 'transform',\n",
       " 'var_',\n",
       " 'with_mean',\n",
       " 'with_std']"
      ]
     },
     "execution_count": 54,
     "metadata": {},
     "output_type": "execute_result"
    }
   ],
   "source": [
    "dir(scaler)"
   ]
  },
  {
   "cell_type": "code",
   "execution_count": 55,
   "id": "b39f6044",
   "metadata": {},
   "outputs": [
    {
     "data": {
      "text/plain": [
       "array([2.])"
      ]
     },
     "execution_count": 55,
     "metadata": {},
     "output_type": "execute_result"
    }
   ],
   "source": [
    "scaler.var_"
   ]
  },
  {
   "cell_type": "code",
   "execution_count": 56,
   "id": "18957578",
   "metadata": {},
   "outputs": [
    {
     "data": {
      "text/plain": [
       "array([[1],\n",
       "       [2],\n",
       "       [3],\n",
       "       [4],\n",
       "       [5]])"
      ]
     },
     "execution_count": 56,
     "metadata": {},
     "output_type": "execute_result"
    }
   ],
   "source": [
    "a"
   ]
  },
  {
   "cell_type": "code",
   "execution_count": 57,
   "id": "1cf292f9",
   "metadata": {},
   "outputs": [
    {
     "data": {
      "text/plain": [
       "array([[-1.41421356],\n",
       "       [-0.70710678],\n",
       "       [ 0.        ],\n",
       "       [ 0.70710678],\n",
       "       [ 1.41421356]])"
      ]
     },
     "execution_count": 57,
     "metadata": {},
     "output_type": "execute_result"
    }
   ],
   "source": [
    "scaler.transform(a) #This is equal to z = (a-np.mean(a))/np.std(a)"
   ]
  },
  {
   "cell_type": "code",
   "execution_count": 58,
   "id": "7133dbcf",
   "metadata": {},
   "outputs": [
    {
     "data": {
      "text/plain": [
       "array([[1.],\n",
       "       [2.],\n",
       "       [3.],\n",
       "       [4.],\n",
       "       [5.]])"
      ]
     },
     "execution_count": 58,
     "metadata": {},
     "output_type": "execute_result"
    }
   ],
   "source": [
    "scaler.inverse_transform(scaler.fit_transform(a)) # Inverse of scaler.transform(a) and equal to a"
   ]
  },
  {
   "cell_type": "code",
   "execution_count": 89,
   "id": "e5c065ed",
   "metadata": {},
   "outputs": [],
   "source": [
    "x = np.array([1,2,4,5,3,4,6,7,78,78,97,65,35,345,675,876,2345,56,78,987,34,32,456,666,500,345,65,789,87,655,632,687,980,999])"
   ]
  },
  {
   "cell_type": "code",
   "execution_count": 90,
   "id": "69bd1ab4",
   "metadata": {},
   "outputs": [
    {
     "data": {
      "text/plain": [
       "(34,)"
      ]
     },
     "execution_count": 90,
     "metadata": {},
     "output_type": "execute_result"
    }
   ],
   "source": [
    "x.shape"
   ]
  },
  {
   "cell_type": "code",
   "execution_count": 91,
   "id": "506eae54",
   "metadata": {},
   "outputs": [],
   "source": [
    "x = x.reshape(-1,1)"
   ]
  },
  {
   "cell_type": "code",
   "execution_count": 92,
   "id": "3dc1e9c4",
   "metadata": {},
   "outputs": [
    {
     "data": {
      "text/plain": [
       "(34, 1)"
      ]
     },
     "execution_count": 92,
     "metadata": {},
     "output_type": "execute_result"
    }
   ],
   "source": [
    "x.shape"
   ]
  },
  {
   "cell_type": "code",
   "execution_count": 93,
   "id": "d4237809",
   "metadata": {},
   "outputs": [],
   "source": [
    "y = np.array([4,56,4,6,456,657,67,65,1,2,3,4,5,4,89,78,678,455,566,3,300,678,789,876,98,437,541,345,324,546,123,398,600])"
   ]
  },
  {
   "cell_type": "code",
   "execution_count": 94,
   "id": "a78e6370",
   "metadata": {},
   "outputs": [
    {
     "data": {
      "text/plain": [
       "(33,)"
      ]
     },
     "execution_count": 94,
     "metadata": {},
     "output_type": "execute_result"
    }
   ],
   "source": [
    "y.shape"
   ]
  },
  {
   "cell_type": "code",
   "execution_count": 95,
   "id": "b5a9d776",
   "metadata": {},
   "outputs": [],
   "source": [
    "y = y.reshape(-1,1)"
   ]
  },
  {
   "cell_type": "code",
   "execution_count": 96,
   "id": "3e1c5e45",
   "metadata": {},
   "outputs": [
    {
     "data": {
      "text/plain": [
       "(33, 1)"
      ]
     },
     "execution_count": 96,
     "metadata": {},
     "output_type": "execute_result"
    }
   ],
   "source": [
    "y.shape"
   ]
  },
  {
   "cell_type": "code",
   "execution_count": 102,
   "id": "2fba0e23",
   "metadata": {},
   "outputs": [],
   "source": [
    "import numpy as np\n",
    "import pandas as pd\n",
    "import matplotlib.pyplot as plt\n",
    "from sklearn.preprocessing import MinMaxScaler\n"
   ]
  },
  {
   "cell_type": "code",
   "execution_count": 103,
   "id": "5375bf87",
   "metadata": {},
   "outputs": [
    {
     "data": {
      "text/plain": [
       "((34, 1), (33, 1))"
      ]
     },
     "execution_count": 103,
     "metadata": {},
     "output_type": "execute_result"
    }
   ],
   "source": [
    "x.shape, y.shape"
   ]
  },
  {
   "cell_type": "code",
   "execution_count": 104,
   "id": "1e0f80bb",
   "metadata": {},
   "outputs": [
    {
     "data": {
      "text/plain": [
       "(array([14.,  5.,  0.,  0.,  2.,  0.,  1.,  1.,  1.,  4.,  0.,  1.,  1.,\n",
       "         2.,  1.,  0.,  0.,  0.,  0.,  0.,  0.,  0.,  0.,  0.,  0.,  0.,\n",
       "         0.,  0.,  0.,  0.,  0.,  0.,  1.]),\n",
       " array([1.00000000e+00, 7.20303030e+01, 1.43060606e+02, 2.14090909e+02,\n",
       "        2.85121212e+02, 3.56151515e+02, 4.27181818e+02, 4.98212121e+02,\n",
       "        5.69242424e+02, 6.40272727e+02, 7.11303030e+02, 7.82333333e+02,\n",
       "        8.53363636e+02, 9.24393939e+02, 9.95424242e+02, 1.06645455e+03,\n",
       "        1.13748485e+03, 1.20851515e+03, 1.27954545e+03, 1.35057576e+03,\n",
       "        1.42160606e+03, 1.49263636e+03, 1.56366667e+03, 1.63469697e+03,\n",
       "        1.70572727e+03, 1.77675758e+03, 1.84778788e+03, 1.91881818e+03,\n",
       "        1.98984848e+03, 2.06087879e+03, 2.13190909e+03, 2.20293939e+03,\n",
       "        2.27396970e+03, 2.34500000e+03]),\n",
       " <BarContainer object of 33 artists>)"
      ]
     },
     "execution_count": 104,
     "metadata": {},
     "output_type": "execute_result"
    },
    {
     "data": {
      "image/png": "[encoded data removed]",
      "text/plain": [
       "<Figure size 432x288 with 1 Axes>"
      ]
     },
     "metadata": {
      "needs_background": "light"
     },
     "output_type": "display_data"
    }
   ],
   "source": [
    "plt.hist(x, bins=33)"
   ]
  },
  {
   "cell_type": "code",
   "execution_count": 105,
   "id": "79016b5a",
   "metadata": {},
   "outputs": [
    {
     "data": {
      "text/plain": [
       "(array([10.,  0.,  4.,  2.,  1.,  0.,  0.,  0.,  0.,  0.,  0.,  1.,  2.,\n",
       "         0.,  1.,  0.,  1.,  2.,  0.,  0.,  2.,  1.,  1.,  0.,  1.,  2.,\n",
       "         0.,  0.,  0.,  1.,  0.,  0.,  1.]),\n",
       " array([  1.        ,  27.51515152,  54.03030303,  80.54545455,\n",
       "        107.06060606, 133.57575758, 160.09090909, 186.60606061,\n",
       "        213.12121212, 239.63636364, 266.15151515, 292.66666667,\n",
       "        319.18181818, 345.6969697 , 372.21212121, 398.72727273,\n",
       "        425.24242424, 451.75757576, 478.27272727, 504.78787879,\n",
       "        531.3030303 , 557.81818182, 584.33333333, 610.84848485,\n",
       "        637.36363636, 663.87878788, 690.39393939, 716.90909091,\n",
       "        743.42424242, 769.93939394, 796.45454545, 822.96969697,\n",
       "        849.48484848, 876.        ]),\n",
       " <BarContainer object of 33 artists>)"
      ]
     },
     "execution_count": 105,
     "metadata": {},
     "output_type": "execute_result"
    },
    {
     "data": {
      "image/png": "[encoded data removed]",
      "text/plain": [
       "<Figure size 432x288 with 1 Axes>"
      ]
     },
     "metadata": {
      "needs_background": "light"
     },
     "output_type": "display_data"
    }
   ],
   "source": [
    "plt.hist(y, bins=33)"
   ]
  },
  {
   "cell_type": "code",
   "execution_count": 106,
   "id": "e639c6cd",
   "metadata": {},
   "outputs": [
    {
     "data": {
      "text/plain": [
       "(array([10.,  0.,  4.,  2.,  1.,  0.,  0.,  0.,  0.,  0.,  0.,  1.,  2.,\n",
       "         0.,  1.,  0.,  1.,  2.,  0.,  0.,  2.,  1.,  1.,  0.,  1.,  2.,\n",
       "         0.,  0.,  0.,  1.,  0.,  0.,  1.]),\n",
       " array([  1.        ,  27.51515152,  54.03030303,  80.54545455,\n",
       "        107.06060606, 133.57575758, 160.09090909, 186.60606061,\n",
       "        213.12121212, 239.63636364, 266.15151515, 292.66666667,\n",
       "        319.18181818, 345.6969697 , 372.21212121, 398.72727273,\n",
       "        425.24242424, 451.75757576, 478.27272727, 504.78787879,\n",
       "        531.3030303 , 557.81818182, 584.33333333, 610.84848485,\n",
       "        637.36363636, 663.87878788, 690.39393939, 716.90909091,\n",
       "        743.42424242, 769.93939394, 796.45454545, 822.96969697,\n",
       "        849.48484848, 876.        ]),\n",
       " <BarContainer object of 33 artists>)"
      ]
     },
     "execution_count": 106,
     "metadata": {},
     "output_type": "execute_result"
    },
    {
     "data": {
      "image/png": "[encoded data removed]",
      "text/plain": [
       "<Figure size 432x288 with 1 Axes>"
      ]
     },
     "metadata": {
      "needs_background": "light"
     },
     "output_type": "display_data"
    }
   ],
   "source": [
    "plt.hist(x, bins=33)\n",
    "plt.hist(y, bins=33)"
   ]
  },
  {
   "cell_type": "code",
   "execution_count": null,
   "id": "d5dca26d",
   "metadata": {},
   "outputs": [],
   "source": [
    "#MinMaxScaler"
   ]
  },
  {
   "cell_type": "code",
   "execution_count": 107,
   "id": "ff323037",
   "metadata": {},
   "outputs": [],
   "source": [
    "from sklearn.preprocessing import MinMaxScaler"
   ]
  },
  {
   "cell_type": "code",
   "execution_count": 108,
   "id": "86dca8cd",
   "metadata": {},
   "outputs": [
    {
     "data": {
      "text/plain": [
       "(array([14.,  5.,  0.,  0.,  2.,  0.,  1.,  1.,  1.,  4.,  0.,  1.,  1.,\n",
       "         2.,  1.,  0.,  0.,  0.,  0.,  0.,  0.,  0.,  0.,  0.,  0.,  0.,\n",
       "         0.,  0.,  0.,  0.,  0.,  0.,  1.]),\n",
       " array([0.        , 0.03030303, 0.06060606, 0.09090909, 0.12121212,\n",
       "        0.15151515, 0.18181818, 0.21212121, 0.24242424, 0.27272727,\n",
       "        0.3030303 , 0.33333333, 0.36363636, 0.39393939, 0.42424242,\n",
       "        0.45454545, 0.48484848, 0.51515152, 0.54545455, 0.57575758,\n",
       "        0.60606061, 0.63636364, 0.66666667, 0.6969697 , 0.72727273,\n",
       "        0.75757576, 0.78787879, 0.81818182, 0.84848485, 0.87878788,\n",
       "        0.90909091, 0.93939394, 0.96969697, 1.        ]),\n",
       " <BarContainer object of 33 artists>)"
      ]
     },
     "execution_count": 108,
     "metadata": {},
     "output_type": "execute_result"
    },
    {
     "data": {
      "image/png": "[encoded data removed]",
      "text/plain": [
       "<Figure size 432x288 with 1 Axes>"
      ]
     },
     "metadata": {
      "needs_background": "light"
     },
     "output_type": "display_data"
    }
   ],
   "source": [
    "x_scaler= MinMaxScaler()\n",
    "x_minmaxscaled= x_scaler.fit_transform(x)\n",
    "plt.hist(x_minmaxscaled, bins=33)"
   ]
  },
  {
   "cell_type": "code",
   "execution_count": 109,
   "id": "372a0ff9",
   "metadata": {},
   "outputs": [
    {
     "data": {
      "text/plain": [
       "(array([10.,  0.,  4.,  2.,  1.,  0.,  0.,  0.,  0.,  0.,  0.,  1.,  2.,\n",
       "         0.,  1.,  0.,  1.,  2.,  0.,  0.,  2.,  1.,  1.,  0.,  1.,  2.,\n",
       "         0.,  0.,  0.,  1.,  0.,  0.,  1.]),\n",
       " array([0.        , 0.03030303, 0.06060606, 0.09090909, 0.12121212,\n",
       "        0.15151515, 0.18181818, 0.21212121, 0.24242424, 0.27272727,\n",
       "        0.3030303 , 0.33333333, 0.36363636, 0.39393939, 0.42424242,\n",
       "        0.45454545, 0.48484848, 0.51515152, 0.54545455, 0.57575758,\n",
       "        0.60606061, 0.63636364, 0.66666667, 0.6969697 , 0.72727273,\n",
       "        0.75757576, 0.78787879, 0.81818182, 0.84848485, 0.87878788,\n",
       "        0.90909091, 0.93939394, 0.96969697, 1.        ]),\n",
       " <BarContainer object of 33 artists>)"
      ]
     },
     "execution_count": 109,
     "metadata": {},
     "output_type": "execute_result"
    },
    {
     "data": {
      "image/png": "[encoded data removed]",
      "text/plain": [
       "<Figure size 432x288 with 1 Axes>"
      ]
     },
     "metadata": {
      "needs_background": "light"
     },
     "output_type": "display_data"
    }
   ],
   "source": [
    "y_scaler = MinMaxScaler()\n",
    "y_minmaxscaled = y_scaler.fit_transform(y)\n",
    "plt.hist(y_minmaxscaled, bins=33)"
   ]
  },
  {
   "cell_type": "code",
   "execution_count": 111,
   "id": "262fde50",
   "metadata": {},
   "outputs": [
    {
     "data": {
      "text/plain": [
       "(array([10.,  0.,  4.,  2.,  1.,  0.,  0.,  0.,  0.,  0.,  0.,  1.,  2.,\n",
       "         0.,  1.,  0.,  1.,  2.,  0.,  0.,  2.,  1.,  1.,  0.,  1.,  2.,\n",
       "         0.,  0.,  0.,  1.,  0.,  0.,  1.]),\n",
       " array([0.        , 0.03030303, 0.06060606, 0.09090909, 0.12121212,\n",
       "        0.15151515, 0.18181818, 0.21212121, 0.24242424, 0.27272727,\n",
       "        0.3030303 , 0.33333333, 0.36363636, 0.39393939, 0.42424242,\n",
       "        0.45454545, 0.48484848, 0.51515152, 0.54545455, 0.57575758,\n",
       "        0.60606061, 0.63636364, 0.66666667, 0.6969697 , 0.72727273,\n",
       "        0.75757576, 0.78787879, 0.81818182, 0.84848485, 0.87878788,\n",
       "        0.90909091, 0.93939394, 0.96969697, 1.        ]),\n",
       " <BarContainer object of 33 artists>)"
      ]
     },
     "execution_count": 111,
     "metadata": {},
     "output_type": "execute_result"
    },
    {
     "data": {
      "image/png": "[encoded data removed]",
      "text/plain": [
       "<Figure size 432x288 with 1 Axes>"
      ]
     },
     "metadata": {
      "needs_background": "light"
     },
     "output_type": "display_data"
    }
   ],
   "source": [
    "plt.hist(x_minmaxscaled, bins=33)\n",
    "plt.hist(y_minmaxscaled, bins=33)"
   ]
  },
  {
   "cell_type": "code",
   "execution_count": null,
   "id": "f1463855",
   "metadata": {},
   "outputs": [],
   "source": [
    "#StandardSc\n"
   ]
  },
  {
   "cell_type": "code",
   "execution_count": 112,
   "id": "973720ae",
   "metadata": {},
   "outputs": [],
   "source": [
    "from sklearn.preprocessing import StandardScaler"
   ]
  },
  {
   "cell_type": "code",
   "execution_count": 114,
   "id": "9d6e241a",
   "metadata": {},
   "outputs": [
    {
     "data": {
      "text/plain": [
       "(array([14.,  5.,  0.,  0.,  2.,  0.,  1.,  1.,  1.,  4.,  0.,  1.,  1.,\n",
       "         2.,  1.,  0.,  0.,  0.,  0.,  0.,  0.,  0.,  0.,  0.,  0.,  0.,\n",
       "         0.,  0.,  0.,  0.,  0.,  0.,  1.]),\n",
       " array([-0.76435949, -0.61831903, -0.47227858, -0.32623813, -0.18019768,\n",
       "        -0.03415722,  0.11188323,  0.25792368,  0.40396414,  0.55000459,\n",
       "         0.69604504,  0.84208549,  0.98812595,  1.1341664 ,  1.28020685,\n",
       "         1.4262473 ,  1.57228776,  1.71832821,  1.86436866,  2.01040911,\n",
       "         2.15644957,  2.30249002,  2.44853047,  2.59457093,  2.74061138,\n",
       "         2.88665183,  3.03269228,  3.17873274,  3.32477319,  3.47081364,\n",
       "         3.61685409,  3.76289455,  3.908935  ,  4.05497545]),\n",
       " <BarContainer object of 33 artists>)"
      ]
     },
     "execution_count": 114,
     "metadata": {},
     "output_type": "execute_result"
    },
    {
     "data": {
      "image/png": "[encoded data removed]",
      "text/plain": [
       "<Figure size 432x288 with 1 Axes>"
      ]
     },
     "metadata": {
      "needs_background": "light"
     },
     "output_type": "display_data"
    }
   ],
   "source": [
    "x_scaler = StandardScaler()\n",
    "x_standardscaled = x_scaler.fit_transform(x)\n",
    "plt.hist(x_standardscaled, bins=33)"
   ]
  },
  {
   "cell_type": "code",
   "execution_count": 115,
   "id": "405fb699",
   "metadata": {},
   "outputs": [
    {
     "data": {
      "text/plain": [
       "(array([14.,  5.,  0.,  0.,  2.,  0.,  1.,  1.,  1.,  4.,  0.,  1.,  1.,\n",
       "         2.,  1.,  0.,  0.,  0.,  0.,  0.,  0.,  0.,  0.,  0.,  0.,  0.,\n",
       "         0.,  0.,  0.,  0.,  0.,  0.,  1.]),\n",
       " array([1.00000000e+00, 7.20303030e+01, 1.43060606e+02, 2.14090909e+02,\n",
       "        2.85121212e+02, 3.56151515e+02, 4.27181818e+02, 4.98212121e+02,\n",
       "        5.69242424e+02, 6.40272727e+02, 7.11303030e+02, 7.82333333e+02,\n",
       "        8.53363636e+02, 9.24393939e+02, 9.95424242e+02, 1.06645455e+03,\n",
       "        1.13748485e+03, 1.20851515e+03, 1.27954545e+03, 1.35057576e+03,\n",
       "        1.42160606e+03, 1.49263636e+03, 1.56366667e+03, 1.63469697e+03,\n",
       "        1.70572727e+03, 1.77675758e+03, 1.84778788e+03, 1.91881818e+03,\n",
       "        1.98984848e+03, 2.06087879e+03, 2.13190909e+03, 2.20293939e+03,\n",
       "        2.27396970e+03, 2.34500000e+03]),\n",
       " <BarContainer object of 33 artists>)"
      ]
     },
     "execution_count": 115,
     "metadata": {},
     "output_type": "execute_result"
    },
    {
     "data": {
      "image/png": "[encoded data removed]",
      "text/plain": [
       "<Figure size 432x288 with 1 Axes>"
      ]
     },
     "metadata": {
      "needs_background": "light"
     },
     "output_type": "display_data"
    }
   ],
   "source": [
    "plt.hist(x, bins=33)"
   ]
  },
  {
   "cell_type": "code",
   "execution_count": 116,
   "id": "2019ab98",
   "metadata": {},
   "outputs": [
    {
     "data": {
      "text/plain": [
       "(array([10.,  0.,  4.,  2.,  1.,  0.,  0.,  0.,  0.,  0.,  0.,  1.,  2.,\n",
       "         0.,  1.,  0.,  1.,  2.,  0.,  0.,  2.,  1.,  1.,  0.,  1.,  2.,\n",
       "         0.,  0.,  0.,  1.,  0.,  0.,  1.]),\n",
       " array([-1.00684777, -0.9113473 , -0.81584683, -0.72034637, -0.6248459 ,\n",
       "        -0.52934544, -0.43384497, -0.33834451, -0.24284404, -0.14734358,\n",
       "        -0.05184311,  0.04365736,  0.13915782,  0.23465829,  0.33015875,\n",
       "         0.42565922,  0.52115968,  0.61666015,  0.71216061,  0.80766108,\n",
       "         0.90316155,  0.99866201,  1.09416248,  1.18966294,  1.28516341,\n",
       "         1.38066387,  1.47616434,  1.5716648 ,  1.66716527,  1.76266574,\n",
       "         1.8581662 ,  1.95366667,  2.04916713,  2.1446676 ]),\n",
       " <BarContainer object of 33 artists>)"
      ]
     },
     "execution_count": 116,
     "metadata": {},
     "output_type": "execute_result"
    },
    {
     "data": {
      "image/png": "[encoded data removed]",
      "text/plain": [
       "<Figure size 432x288 with 1 Axes>"
      ]
     },
     "metadata": {
      "needs_background": "light"
     },
     "output_type": "display_data"
    }
   ],
   "source": [
    "y_scaler = StandardScaler()\n",
    "y_standardscaled = y_scaler.fit_transform(y)\n",
    "plt.hist(y_standardscaled, bins=33)"
   ]
  },
  {
   "cell_type": "code",
   "execution_count": 117,
   "id": "ad1846b0",
   "metadata": {},
   "outputs": [
    {
     "data": {
      "text/plain": [
       "(array([10.,  0.,  4.,  2.,  1.,  0.,  0.,  0.,  0.,  0.,  0.,  1.,  2.,\n",
       "         0.,  1.,  0.,  1.,  2.,  0.,  0.,  2.,  1.,  1.,  0.,  1.,  2.,\n",
       "         0.,  0.,  0.,  1.,  0.,  0.,  1.]),\n",
       " array([  1.        ,  27.51515152,  54.03030303,  80.54545455,\n",
       "        107.06060606, 133.57575758, 160.09090909, 186.60606061,\n",
       "        213.12121212, 239.63636364, 266.15151515, 292.66666667,\n",
       "        319.18181818, 345.6969697 , 372.21212121, 398.72727273,\n",
       "        425.24242424, 451.75757576, 478.27272727, 504.78787879,\n",
       "        531.3030303 , 557.81818182, 584.33333333, 610.84848485,\n",
       "        637.36363636, 663.87878788, 690.39393939, 716.90909091,\n",
       "        743.42424242, 769.93939394, 796.45454545, 822.96969697,\n",
       "        849.48484848, 876.        ]),\n",
       " <BarContainer object of 33 artists>)"
      ]
     },
     "execution_count": 117,
     "metadata": {},
     "output_type": "execute_result"
    },
    {
     "data": {
      "image/png": "[encoded data removed]",
      "text/plain": [
       "<Figure size 432x288 with 1 Axes>"
      ]
     },
     "metadata": {
      "needs_background": "light"
     },
     "output_type": "display_data"
    }
   ],
   "source": [
    "plt.hist(y, bins=33)"
   ]
  },
  {
   "cell_type": "code",
   "execution_count": 118,
   "id": "02ea59b7",
   "metadata": {},
   "outputs": [
    {
     "data": {
      "text/plain": [
       "(array([10.,  0.,  4.,  2.,  1.,  0.,  0.,  0.,  0.,  0.,  0.,  1.,  2.,\n",
       "         0.,  1.,  0.,  1.,  2.,  0.,  0.,  2.,  1.,  1.,  0.,  1.,  2.,\n",
       "         0.,  0.,  0.,  1.,  0.,  0.,  1.]),\n",
       " array([-1.00684777, -0.9113473 , -0.81584683, -0.72034637, -0.6248459 ,\n",
       "        -0.52934544, -0.43384497, -0.33834451, -0.24284404, -0.14734358,\n",
       "        -0.05184311,  0.04365736,  0.13915782,  0.23465829,  0.33015875,\n",
       "         0.42565922,  0.52115968,  0.61666015,  0.71216061,  0.80766108,\n",
       "         0.90316155,  0.99866201,  1.09416248,  1.18966294,  1.28516341,\n",
       "         1.38066387,  1.47616434,  1.5716648 ,  1.66716527,  1.76266574,\n",
       "         1.8581662 ,  1.95366667,  2.04916713,  2.1446676 ]),\n",
       " <BarContainer object of 33 artists>)"
      ]
     },
     "execution_count": 118,
     "metadata": {},
     "output_type": "execute_result"
    },
    {
     "data": {
      "image/png": "[encoded data removed]",
      "text/plain": [
       "<Figure size 432x288 with 1 Axes>"
      ]
     },
     "metadata": {
      "needs_background": "light"
     },
     "output_type": "display_data"
    }
   ],
   "source": [
    "plt.hist(x_standardscaled, bins = 33)\n",
    "plt.hist(y_standardscaled, bins = 33)"
   ]
  },
  {
   "cell_type": "code",
   "execution_count": null,
   "id": "f652c60d",
   "metadata": {},
   "outputs": [],
   "source": []
  }
 ],
 "metadata": {
  "kernelspec": {
   "display_name": "Python 3 (ipykernel)",
   "language": "python",
   "name": "python3"
  },
  "language_info": {
   "codemirror_mode": {
    "name": "ipython",
    "version": 3
   },
   "file_extension": ".py",
   "mimetype": "text/x-python",
   "name": "python",
   "nbconvert_exporter": "python",
   "pygments_lexer": "ipython3",
   "version": "3.9.7"
  }
 },
 "nbformat": 4,
 "nbformat_minor": 5
}
