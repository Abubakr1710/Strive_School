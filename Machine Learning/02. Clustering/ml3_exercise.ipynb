{
 "cells": [
  {
   "cell_type": "markdown",
   "metadata": {
    "id": "7yoAeqZtaBmp",
    "nbgrader": {
     "grade": false,
     "grade_id": "cell-33d26828be6e1038",
     "locked": true,
     "schema_version": 3,
     "solution": false,
     "task": false
    }
   },
   "source": [
    "# Exercise 10: Hierarchical clustering of the grain data\n",
    "\n",
    "In the video, you learnt that the SciPy `linkage()` function performs hierarchical clustering on an array of samples.  Use the `linkage()` function to obtain a hierarchical clustering of the grain samples, and use `dendrogram()` to visualize the result.  A sample of the grain measurements is provided in the array `samples`, while the variety of each grain sample is given by the list `varieties`.\n"
   ]
  },
  {
   "cell_type": "markdown",
   "metadata": {
    "id": "mk3dxh5naBmt",
    "nbgrader": {
     "grade": false,
     "grade_id": "cell-f184e018b98e7d52",
     "locked": true,
     "schema_version": 3,
     "solution": false,
     "task": false
    }
   },
   "source": [
    "**Step 1:** Import:\n",
    "\n",
    " + `linkage` and `dendrogram` from `scipy.cluster.hierarchy`.\n",
    " + `matplotlib.pyplot` as `plt`.\n",
    " + `pandas`\n",
    " + `load_iris` and `train_test_split`"
   ]
  },
  {
   "cell_type": "code",
   "execution_count": 6,
   "metadata": {
    "id": "ciFPMqPgaBmv"
   },
   "outputs": [],
   "source": [
    "import numpy as np\n",
    "from scipy.cluster.hierarchy import linkage,dendrogram\n",
    "import matplotlib.pyplot as plt\n",
    "import pandas as pd\n",
    "from sklearn import datasets\n",
    "from sklearn.model_selection import train_test_split\n"
   ]
  },
  {
   "cell_type": "markdown",
   "metadata": {
    "id": "zSW_vygVaBmw",
    "nbgrader": {
     "grade": false,
     "grade_id": "cell-5d407d7746dba37b",
     "locked": true,
     "schema_version": 3,
     "solution": false,
     "task": false
    }
   },
   "source": [
    "**Step 2:** Load the dataset _(done for you)_."
   ]
  },
  {
   "cell_type": "code",
   "execution_count": 7,
   "metadata": {
    "exercise": false,
    "id": "nWePNZPAaBmx"
   },
   "outputs": [],
   "source": [
    "\n",
    "iris_data = datasets.load_iris()\n"
   ]
  },
  {
   "cell_type": "code",
   "execution_count": 18,
   "metadata": {},
   "outputs": [
    {
     "data": {
      "text/plain": [
       "['sepal length (cm)',\n",
       " 'sepal width (cm)',\n",
       " 'petal length (cm)',\n",
       " 'petal width (cm)']"
      ]
     },
     "execution_count": 18,
     "metadata": {},
     "output_type": "execute_result"
    }
   ],
   "source": [
    "iris_data.feature_names"
   ]
  },
  {
   "cell_type": "code",
   "execution_count": 22,
   "metadata": {
    "id": "XqQDLv8DaBmx",
    "nbgrader": {
     "grade": false,
     "grade_id": "cell-5b5863d4b8ed6db7",
     "locked": false,
     "schema_version": 3,
     "solution": true,
     "task": false
    }
   },
   "outputs": [
    {
     "name": "stderr",
     "output_type": "stream",
     "text": [
      "C:\\Users\\Abubakr\\AppData\\Local\\Temp\\ipykernel_15580\\4244621520.py:11: SettingWithCopyWarning: \n",
      "A value is trying to be set on a copy of a slice from a DataFrame\n",
      "\n",
      "See the caveats in the documentation: https://pandas.pydata.org/pandas-docs/stable/user_guide/indexing.html#returning-a-view-versus-a-copy\n",
      "  df['class'][:50],df['class'][50:100],df['class'][100:] = iris_data.target_names\n"
     ]
    }
   ],
   "source": [
    "#Create pd DF the same way you did the first day\n",
    "#Create the class and target columns and remove de cm from the columns names\n",
    "\n",
    "def create_df():\n",
    "    \n",
    "    ### BEGIN SOLUTION\n",
    "    df=pd.DataFrame(iris_data.data, columns=iris_data.feature_names)\n",
    "    # Add target and class to DataFrame\n",
    "    df['target']=iris_data.target\n",
    "    df['class'] = ''\n",
    "    df['class'][:50],df['class'][50:100],df['class'][100:] = iris_data.target_names\n",
    "    \n",
    "    #rename the columns - remove the (cm)\n",
    "    df = df.rename(columns={'sepal length (cm)':'sepal length','sepal width (cm)':'sepal width','petal length (cm)':'petal length','petal width (cm)':'petal width'})\n",
    "    return df\n",
    "    ### END SOLUTION\n",
    "df_iris = create_df()\n"
   ]
  },
  {
   "cell_type": "code",
   "execution_count": 23,
   "metadata": {},
   "outputs": [
    {
     "data": {
      "text/html": [
       "<div>\n",
       "<style scoped>\n",
       "    .dataframe tbody tr th:only-of-type {\n",
       "        vertical-align: middle;\n",
       "    }\n",
       "\n",
       "    .dataframe tbody tr th {\n",
       "        vertical-align: top;\n",
       "    }\n",
       "\n",
       "    .dataframe thead th {\n",
       "        text-align: right;\n",
       "    }\n",
       "</style>\n",
       "<table border=\"1\" class=\"dataframe\">\n",
       "  <thead>\n",
       "    <tr style=\"text-align: right;\">\n",
       "      <th></th>\n",
       "      <th>sepal length</th>\n",
       "      <th>sepal width</th>\n",
       "      <th>petal length</th>\n",
       "      <th>petal width</th>\n",
       "      <th>target</th>\n",
       "      <th>class</th>\n",
       "    </tr>\n",
       "  </thead>\n",
       "  <tbody>\n",
       "    <tr>\n",
       "      <th>0</th>\n",
       "      <td>5.1</td>\n",
       "      <td>3.5</td>\n",
       "      <td>1.4</td>\n",
       "      <td>0.2</td>\n",
       "      <td>0</td>\n",
       "      <td>setosa</td>\n",
       "    </tr>\n",
       "    <tr>\n",
       "      <th>1</th>\n",
       "      <td>4.9</td>\n",
       "      <td>3.0</td>\n",
       "      <td>1.4</td>\n",
       "      <td>0.2</td>\n",
       "      <td>0</td>\n",
       "      <td>setosa</td>\n",
       "    </tr>\n",
       "    <tr>\n",
       "      <th>2</th>\n",
       "      <td>4.7</td>\n",
       "      <td>3.2</td>\n",
       "      <td>1.3</td>\n",
       "      <td>0.2</td>\n",
       "      <td>0</td>\n",
       "      <td>setosa</td>\n",
       "    </tr>\n",
       "    <tr>\n",
       "      <th>3</th>\n",
       "      <td>4.6</td>\n",
       "      <td>3.1</td>\n",
       "      <td>1.5</td>\n",
       "      <td>0.2</td>\n",
       "      <td>0</td>\n",
       "      <td>setosa</td>\n",
       "    </tr>\n",
       "    <tr>\n",
       "      <th>4</th>\n",
       "      <td>5.0</td>\n",
       "      <td>3.6</td>\n",
       "      <td>1.4</td>\n",
       "      <td>0.2</td>\n",
       "      <td>0</td>\n",
       "      <td>setosa</td>\n",
       "    </tr>\n",
       "    <tr>\n",
       "      <th>...</th>\n",
       "      <td>...</td>\n",
       "      <td>...</td>\n",
       "      <td>...</td>\n",
       "      <td>...</td>\n",
       "      <td>...</td>\n",
       "      <td>...</td>\n",
       "    </tr>\n",
       "    <tr>\n",
       "      <th>145</th>\n",
       "      <td>6.7</td>\n",
       "      <td>3.0</td>\n",
       "      <td>5.2</td>\n",
       "      <td>2.3</td>\n",
       "      <td>2</td>\n",
       "      <td>virginica</td>\n",
       "    </tr>\n",
       "    <tr>\n",
       "      <th>146</th>\n",
       "      <td>6.3</td>\n",
       "      <td>2.5</td>\n",
       "      <td>5.0</td>\n",
       "      <td>1.9</td>\n",
       "      <td>2</td>\n",
       "      <td>virginica</td>\n",
       "    </tr>\n",
       "    <tr>\n",
       "      <th>147</th>\n",
       "      <td>6.5</td>\n",
       "      <td>3.0</td>\n",
       "      <td>5.2</td>\n",
       "      <td>2.0</td>\n",
       "      <td>2</td>\n",
       "      <td>virginica</td>\n",
       "    </tr>\n",
       "    <tr>\n",
       "      <th>148</th>\n",
       "      <td>6.2</td>\n",
       "      <td>3.4</td>\n",
       "      <td>5.4</td>\n",
       "      <td>2.3</td>\n",
       "      <td>2</td>\n",
       "      <td>virginica</td>\n",
       "    </tr>\n",
       "    <tr>\n",
       "      <th>149</th>\n",
       "      <td>5.9</td>\n",
       "      <td>3.0</td>\n",
       "      <td>5.1</td>\n",
       "      <td>1.8</td>\n",
       "      <td>2</td>\n",
       "      <td>virginica</td>\n",
       "    </tr>\n",
       "  </tbody>\n",
       "</table>\n",
       "<p>150 rows × 6 columns</p>\n",
       "</div>"
      ],
      "text/plain": [
       "     sepal length  sepal width  petal length  petal width  target      class\n",
       "0             5.1          3.5           1.4          0.2       0     setosa\n",
       "1             4.9          3.0           1.4          0.2       0     setosa\n",
       "2             4.7          3.2           1.3          0.2       0     setosa\n",
       "3             4.6          3.1           1.5          0.2       0     setosa\n",
       "4             5.0          3.6           1.4          0.2       0     setosa\n",
       "..            ...          ...           ...          ...     ...        ...\n",
       "145           6.7          3.0           5.2          2.3       2  virginica\n",
       "146           6.3          2.5           5.0          1.9       2  virginica\n",
       "147           6.5          3.0           5.2          2.0       2  virginica\n",
       "148           6.2          3.4           5.4          2.3       2  virginica\n",
       "149           5.9          3.0           5.1          1.8       2  virginica\n",
       "\n",
       "[150 rows x 6 columns]"
      ]
     },
     "execution_count": 23,
     "metadata": {},
     "output_type": "execute_result"
    }
   ],
   "source": [
    "df_iris"
   ]
  },
  {
   "cell_type": "code",
   "execution_count": 24,
   "metadata": {
    "id": "PH4R0XYLaBmz",
    "nbgrader": {
     "grade": true,
     "grade_id": "cell-632fd0e11b776633",
     "locked": true,
     "points": 2,
     "schema_version": 3,
     "solution": false,
     "task": false
    }
   },
   "outputs": [],
   "source": [
    "assert df_iris['sepal length'].shape == (150,)\n",
    "assert df_iris['sepal width'].shape == (150,)\n",
    "assert df_iris['petal length'].shape == (150,)\n",
    "assert df_iris['petal width'].shape == (150,)\n",
    "assert df_iris['target'].shape == (150,)\n",
    "assert df_iris['class'].shape == (150,)"
   ]
  },
  {
   "cell_type": "code",
   "execution_count": 32,
   "metadata": {
    "id": "EWzr4u11aBmz",
    "nbgrader": {
     "grade": false,
     "grade_id": "cell-1b1da2fc006dd2f6",
     "locked": false,
     "schema_version": 3,
     "solution": true,
     "task": false
    }
   },
   "outputs": [],
   "source": [
    "\n",
    "#From our data we will only get variable columns as np.array\n",
    "x = 0\n",
    "### BEGIN SOLUTION\n",
    "x = np.array(df_iris[['sepal length','sepal width','petal length','petal width']])\n",
    "### END SOLUTIONS"
   ]
  },
  {
   "cell_type": "code",
   "execution_count": 33,
   "metadata": {
    "id": "RPpXTyW6aBmz",
    "nbgrader": {
     "grade": true,
     "grade_id": "cell-81d6796d99e92aa3",
     "locked": true,
     "points": 0,
     "schema_version": 3,
     "solution": false,
     "task": false
    }
   },
   "outputs": [],
   "source": [
    "assert x.shape == (150,4)"
   ]
  },
  {
   "cell_type": "markdown",
   "metadata": {
    "id": "SkdaAzsqaBm0"
   },
   "source": [
    "**Step 3:** Perform hierarchical clustering on `samples` using the `linkage()` function with the `method='complete'` keyword argument. Assign the result to `mergings`."
   ]
  },
  {
   "cell_type": "code",
   "execution_count": 37,
   "metadata": {
    "id": "AlmrTMz2aBm0",
    "nbgrader": {
     "grade": false,
     "grade_id": "cell-2a4681a4e740a6fe",
     "locked": false,
     "schema_version": 3,
     "solution": true,
     "task": false
    },
    "outputId": "50af95a8-4ab9-45ea-f541-0e3d0cb42772"
   },
   "outputs": [],
   "source": [
    "mergings = 0 \n",
    "### BEGIN SOLUTION\n",
    "samples=x\n",
    "mergings=linkage(samples,method='complete')\n",
    "### END SOLUTION"
   ]
  },
  {
   "cell_type": "code",
   "execution_count": 38,
   "metadata": {
    "id": "r6MiksWRaBm1",
    "nbgrader": {
     "grade": true,
     "grade_id": "cell-bd07f2be641ae1c5",
     "locked": true,
     "points": 3,
     "schema_version": 3,
     "solution": false,
     "task": false
    }
   },
   "outputs": [],
   "source": [
    "assert mergings.shape == (149,4)"
   ]
  },
  {
   "cell_type": "markdown",
   "metadata": {
    "id": "vklGk2QRaBm1",
    "nbgrader": {
     "grade": false,
     "grade_id": "cell-e0502f3d32a027c4",
     "locked": true,
     "schema_version": 3,
     "solution": false,
     "task": false
    }
   },
   "source": [
    "**Step 4:** Plot a dendrogram using the `dendrogram()` function on `mergings`, specifying the keyword arguments `labels=varieties`, `leaf_rotation=90`, and `leaf_font_size=6`.  Remember to call `plt.show()` afterwards, to display your plot."
   ]
  },
  {
   "cell_type": "code",
   "execution_count": null,
   "metadata": {
    "id": "w9PmgqrmaBm1",
    "nbgrader": {
     "grade": false,
     "grade_id": "cell-8ba6a5e72836aa92",
     "locked": false,
     "schema_version": 3,
     "solution": true,
     "task": false
    },
    "outputId": "eeafc922-5158-4132-d56e-e9b9c840dbc4"
   },
   "outputs": [
    {
     "data": {
      "image/png": "[encoded data removed]",
      "text/plain": [
       "<Figure size 1800x720 with 1 Axes>"
      ]
     },
     "metadata": {
      "needs_background": "light"
     },
     "output_type": "display_data"
    }
   ],
   "source": [
    "dn = 0\n",
    "### BEGIN SOLUTION\n",
    "# END SOLUTION"
   ]
  },
  {
   "cell_type": "code",
   "execution_count": 48,
   "metadata": {},
   "outputs": [
    {
     "data": {
      "image/png": "[encoded data removed]",
      "text/plain": [
       "<Figure size 2160x720 with 1 Axes>"
      ]
     },
     "metadata": {
      "needs_background": "light"
     },
     "output_type": "display_data"
    }
   ],
   "source": [
    "plt.figure(figsize=(30,10))\n",
    "dn=dendrogram(mergings,leaf_rotation=90,leaf_font_size=6)\n",
    "plt.show()"
   ]
  },
  {
   "cell_type": "code",
   "execution_count": null,
   "metadata": {
    "id": "GExzAYjJaBm2",
    "nbgrader": {
     "grade": true,
     "grade_id": "cell-bc0248a8151d10ab",
     "locked": true,
     "points": 3,
     "schema_version": 3,
     "solution": false,
     "task": false
    },
    "outputId": "0475b7fd-740a-44fa-f3f6-4ce5185e3916"
   },
   "outputs": [
    {
     "data": {
      "image/png": "[encoded data removed]",
      "text/plain": [
       "<Figure size 432x288 with 1 Axes>"
      ]
     },
     "metadata": {
      "needs_background": "light"
     },
     "output_type": "display_data"
    }
   ],
   "source": [
    "assert type(dn) == type(dendrogram(np.random.rand(15, 4)))"
   ]
  },
  {
   "cell_type": "markdown",
   "metadata": {
    "id": "Ixtxyc4AaBm3",
    "nbgrader": {
     "grade": false,
     "grade_id": "cell-6c3fb83905359f79",
     "locked": true,
     "schema_version": 3,
     "solution": false,
     "task": false
    }
   },
   "source": [
    "## K-MEANS\n",
    "\n",
    "for this next part we will use the K-Means algorithm in order to cluster your data"
   ]
  },
  {
   "cell_type": "markdown",
   "metadata": {
    "id": "V1yvVNG8aBm3",
    "nbgrader": {
     "grade": false,
     "grade_id": "cell-e554a1446ad626ec",
     "locked": true,
     "schema_version": 3,
     "solution": false,
     "task": false
    }
   },
   "source": [
    "**Step 1:** \n",
    "+ import `KMeans` from `sklearn.cluster`\n",
    "+ loading our new datasets"
   ]
  },
  {
   "cell_type": "code",
   "execution_count": 45,
   "metadata": {
    "id": "AKdPwz_NaBm4"
   },
   "outputs": [],
   "source": [
    "from sklearn.cluster import KMeans\n",
    "\n",
    "df = pd.read_csv('ch1ex1.csv')\n",
    "points = df.values\n",
    "\n",
    "new_df = pd.read_csv('ch1ex2.csv')\n",
    "new_points = new_df.values\n"
   ]
  },
  {
   "cell_type": "markdown",
   "metadata": {
    "id": "dWHXGo7QaBm4",
    "nbgrader": {
     "grade": false,
     "grade_id": "cell-09b5216391582184",
     "locked": true,
     "schema_version": 3,
     "solution": false,
     "task": false
    }
   },
   "source": [
    "**Step 2:** Using `KMeans()`, create a `KMeans` instance called `model` to find `3` clusters. To specify the number of clusters, use the `n_clusters` keyword argument\n"
   ]
  },
  {
   "cell_type": "code",
   "execution_count": null,
   "metadata": {
    "id": "pfYDW3x4aBm4",
    "nbgrader": {
     "grade": false,
     "grade_id": "cell-d4136dfc2ba753ba",
     "locked": false,
     "schema_version": 3,
     "solution": true,
     "task": false
    }
   },
   "outputs": [],
   "source": [
    "model = 0\n",
    "### BEGIN SOLUTION\n",
    "\n",
    "### END SOLUTION"
   ]
  },
  {
   "cell_type": "code",
   "execution_count": null,
   "metadata": {
    "id": "s4_UgkHuaBm5",
    "nbgrader": {
     "grade": true,
     "grade_id": "cell-a6a59ad2afd63249",
     "locked": true,
     "points": 1,
     "schema_version": 3,
     "solution": false,
     "task": false
    }
   },
   "outputs": [],
   "source": [
    "assert type(model)== type(KMeans())"
   ]
  },
  {
   "cell_type": "markdown",
   "metadata": {
    "id": "8tS9mJhtaBm5",
    "nbgrader": {
     "grade": false,
     "grade_id": "cell-3b83408ca14ce116",
     "locked": true,
     "schema_version": 3,
     "solution": false,
     "task": false
    }
   },
   "source": [
    "**Step 4:** Use the `.fit()` method of `model` to fit the model to the array of points `points`."
   ]
  },
  {
   "cell_type": "code",
   "execution_count": null,
   "metadata": {
    "id": "3JiyJXGZaBm5",
    "nbgrader": {
     "grade": false,
     "grade_id": "cell-9a699df5bd74992a",
     "locked": false,
     "schema_version": 3,
     "solution": true,
     "task": false
    }
   },
   "outputs": [],
   "source": [
    "### BEGIN SOLUTION\n",
    "\n",
    "### END SOLUTION"
   ]
  },
  {
   "cell_type": "markdown",
   "metadata": {
    "id": "P94uhFNcaBm6",
    "nbgrader": {
     "grade": false,
     "grade_id": "cell-5f7dc6671c80bcf3",
     "locked": true,
     "schema_version": 3,
     "solution": false,
     "task": false
    }
   },
   "source": [
    "**Step 5:** Use the `.predict()` method of `model` to predict the cluster labels of `points`, assigning the result to `labels`."
   ]
  },
  {
   "cell_type": "code",
   "execution_count": 2,
   "metadata": {
    "id": "98hs3LytaBm6",
    "nbgrader": {
     "grade": false,
     "grade_id": "cell-fe0636d9d3113913",
     "locked": false,
     "schema_version": 3,
     "solution": true,
     "task": false
    }
   },
   "outputs": [],
   "source": [
    "### BEGIN SOLUTION\n",
    "\n",
    "### END SOLUTION"
   ]
  },
  {
   "cell_type": "code",
   "execution_count": null,
   "metadata": {
    "id": "wbEbY9sraBm6",
    "nbgrader": {
     "grade": true,
     "grade_id": "cell-3e790b82f9bf37fc",
     "locked": true,
     "points": 2,
     "schema_version": 3,
     "solution": false,
     "task": false
    }
   },
   "outputs": [],
   "source": [
    "assert labels[labels.argmax()] == 2\n",
    "assert labels.shape == (300,)"
   ]
  },
  {
   "cell_type": "code",
   "execution_count": 7,
   "metadata": {
    "id": "imYlD1QuaBm7",
    "nbgrader": {
     "grade": false,
     "grade_id": "cell-917ce87ba793a518",
     "locked": false,
     "schema_version": 3,
     "solution": true,
     "task": false
    }
   },
   "outputs": [],
   "source": [
    "# Make a function that returns 3 numpy arrays each one with the points associated for each class\n",
    "#If the label is 0 they go into data_0\n",
    "#If the label is 1 they go into data_1\n",
    "#If the label is 2 they go into data_2\n",
    "def separate_labels(labels, points):\n",
    "    data_0 = []\n",
    "    data_1 = []\n",
    "    data_2 = []\n",
    "\n",
    "    ### BEGIN SOLUTION\n",
    "\n",
    "    \n",
    "    ### END SOLUTION\n"
   ]
  },
  {
   "cell_type": "code",
   "execution_count": null,
   "metadata": {
    "id": "RsnTH6biaBm7",
    "nbgrader": {
     "grade": true,
     "grade_id": "cell-9d19700f8e07d490",
     "locked": true,
     "points": 2,
     "schema_version": 3,
     "solution": false,
     "task": false
    }
   },
   "outputs": [],
   "source": [
    "assert abs(data_0.shape[0] - 94) <= 20\n",
    "assert abs(data_1.shape[0] - 95) <= 20\n",
    "assert abs(data_2.shape[0] - 111) <= 20"
   ]
  },
  {
   "cell_type": "code",
   "execution_count": 6,
   "metadata": {
    "id": "slfkz_onaBm8",
    "nbgrader": {
     "grade": false,
     "grade_id": "cell-6ae9d7e6dfb48eda",
     "locked": false,
     "schema_version": 3,
     "solution": true,
     "task": false
    }
   },
   "outputs": [],
   "source": [
    "# plotting the data \n",
    "\n",
    "### BEGIN SOLUTION\n",
    "\n",
    "\n",
    "### END SOLUTION"
   ]
  },
  {
   "cell_type": "markdown",
   "metadata": {
    "id": "2eEQmMvFaBm9"
   },
   "source": [
    "**Step 7:** Use the `.predict()` method of `model` to predict the cluster labels of `new_points`, assigning the result to `new_labels`.  Notice that KMeans can assign previously unseen points to the clusters it has already found!"
   ]
  },
  {
   "cell_type": "code",
   "execution_count": 3,
   "metadata": {
    "id": "5RCsQ8uYaBm9",
    "nbgrader": {
     "grade": false,
     "grade_id": "cell-e1c6be8c2b6c48ab",
     "locked": false,
     "schema_version": 3,
     "solution": true,
     "task": false
    }
   },
   "outputs": [],
   "source": [
    "\n",
    "### BEGIN SOLUTION\n",
    "\n",
    "### END SOLUTION\n"
   ]
  },
  {
   "cell_type": "code",
   "execution_count": null,
   "metadata": {
    "id": "G39NZZOEaBm9",
    "nbgrader": {
     "grade": true,
     "grade_id": "cell-33a135652cf843e7",
     "locked": true,
     "points": 2,
     "schema_version": 3,
     "solution": false,
     "task": false
    }
   },
   "outputs": [],
   "source": [
    "assert new_labels[new_labels.argmax()] == 2\n",
    "assert new_labels.shape == (100,)"
   ]
  },
  {
   "cell_type": "code",
   "execution_count": null,
   "metadata": {
    "id": "XZgzl7c3aBm-",
    "nbgrader": {
     "grade": false,
     "grade_id": "cell-91d525783ae0a408",
     "locked": false,
     "schema_version": 3,
     "solution": true,
     "task": false
    }
   },
   "outputs": [],
   "source": [
    "#separate the data by labels like we did before\n",
    "\n",
    "new_0 = []\n",
    "new_1 = []\n",
    "new_2 = []\n",
    "\n",
    "### BEGIN SOLUTION\n",
    "\n",
    "### END SOLUTION\n"
   ]
  },
  {
   "cell_type": "code",
   "execution_count": null,
   "metadata": {
    "id": "uzCSRzHUaBm_",
    "nbgrader": {
     "grade": true,
     "grade_id": "cell-bbb9a9b41cb01987",
     "locked": true,
     "points": 2,
     "schema_version": 3,
     "solution": false,
     "task": false
    }
   },
   "outputs": [],
   "source": [
    "assert abs(new_0.shape[0] - 34) <= 5\n",
    "assert abs(new_1.shape[0] - 34) <= 5\n",
    "assert abs(new_2.shape[0] - 34) <= 5"
   ]
  },
  {
   "cell_type": "code",
   "execution_count": 4,
   "metadata": {
    "id": "tA8qY8EPaBm_",
    "nbgrader": {
     "grade": false,
     "grade_id": "cell-f0f51c7f91e8b4df",
     "locked": false,
     "schema_version": 3,
     "solution": true,
     "task": false
    }
   },
   "outputs": [],
   "source": [
    "#plot the new labels\n",
    "\n",
    "\n",
    "### BEGIN SOLUTION\n",
    "\n",
    "### END SOLUTION"
   ]
  },
  {
   "cell_type": "code",
   "execution_count": 5,
   "metadata": {
    "id": "lpXuiukraBnA",
    "nbgrader": {
     "grade": false,
     "grade_id": "cell-fb66bc887cd85537",
     "locked": false,
     "schema_version": 3,
     "solution": true,
     "task": false
    }
   },
   "outputs": [],
   "source": [
    "#plot all the points together\n",
    "\n",
    "### BEGIN SOLUTION\n",
    "\n",
    "\n",
    "### END SOLUTION"
   ]
  },
  {
   "cell_type": "code",
   "execution_count": null,
   "metadata": {
    "id": "KwmYt5Vea902"
   },
   "outputs": [],
   "source": []
  }
 ],
 "metadata": {
  "celltoolbar": "Create Assignment",
  "colab": {
   "collapsed_sections": [],
   "name": "ml3_exercise.ipynb",
   "provenance": []
  },
  "kernelspec": {
   "display_name": "Python 3",
   "language": "python",
   "name": "python3"
  },
  "language_info": {
   "codemirror_mode": {
    "name": "ipython",
    "version": 3
   },
   "file_extension": ".py",
   "mimetype": "text/x-python",
   "name": "python",
   "nbconvert_exporter": "python",
   "pygments_lexer": "ipython3",
   "version": "3.9.7"
  }
 },
 "nbformat": 4,
 "nbformat_minor": 1
}
