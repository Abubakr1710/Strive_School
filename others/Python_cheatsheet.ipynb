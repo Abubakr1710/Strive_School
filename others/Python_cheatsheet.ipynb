{
 "cells": [
  {
   "cell_type": "markdown",
   "metadata": {},
   "source": [
    "##                                                                               Python Cheatsheet "
   ]
  }
 ],
 "metadata": {
  "interpreter": {
   "hash": "d1149800258fca5f77b80b7ad0b39fa29894bab1cbb76b084b2d2d6ed337cc96"
  },
  "kernelspec": {
   "display_name": "Python 3.9.7 ('ai')",
   "language": "python",
   "name": "python3"
  },
  "language_info": {
   "name": "python",
   "version": "3.9.7"
  },
  "orig_nbformat": 4
 },
 "nbformat": 4,
 "nbformat_minor": 2
}
