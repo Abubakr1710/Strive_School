{
 "cells": [
  {
   "cell_type": "markdown",
   "id": "about-firewall",
   "metadata": {},
   "source": [
    "# I want the code!!!"
   ]
  },
  {
   "cell_type": "code",
   "execution_count": 1,
   "id": "referenced-affect",
   "metadata": {
    "ExecuteTime": {
     "end_time": "2021-07-11T10:30:47.918020Z",
     "start_time": "2021-07-11T10:30:47.914055Z"
    }
   },
   "outputs": [],
   "source": [
    "import numpy as np"
   ]
  },
  {
   "cell_type": "code",
   "execution_count": 46,
   "id": "successful-philadelphia",
   "metadata": {
    "ExecuteTime": {
     "end_time": "2021-07-11T11:46:21.374056Z",
     "start_time": "2021-07-11T11:46:21.369450Z"
    }
   },
   "outputs": [],
   "source": [
    "v = np.array([1,23,34,5,34,345,345,453,65,453234,4])"
   ]
  },
  {
   "cell_type": "code",
   "execution_count": 49,
   "id": "median-picking",
   "metadata": {
    "ExecuteTime": {
     "end_time": "2021-07-11T11:47:41.632596Z",
     "start_time": "2021-07-11T11:47:41.625721Z"
    }
   },
   "outputs": [
    {
     "data": {
      "text/plain": [
       "11"
      ]
     },
     "execution_count": 49,
     "metadata": {},
     "output_type": "execute_result"
    }
   ],
   "source": [
    "v.size"
   ]
  },
  {
   "cell_type": "markdown",
   "id": "opposite-fashion",
   "metadata": {},
   "source": [
    "$$ v = (v_{1}, v_{2}, ...,v_{n})$$\n",
    "\n",
    "$$ ||v|| = \\sqrt{v_{1}^{2}+v_{2}^{2} + ... + v_{n}^{2}}$$"
   ]
  },
  {
   "cell_type": "code",
   "execution_count": 53,
   "id": "responsible-description",
   "metadata": {
    "ExecuteTime": {
     "end_time": "2021-07-11T11:50:14.046434Z",
     "start_time": "2021-07-11T11:50:14.038740Z"
    }
   },
   "outputs": [
    {
     "data": {
      "text/plain": [
       "453234.4968369023"
      ]
     },
     "execution_count": 53,
     "metadata": {},
     "output_type": "execute_result"
    }
   ],
   "source": [
    "result = 0\n",
    "for component in v:\n",
    "    result += component**2\n",
    "np.sqrt(result)"
   ]
  },
  {
   "cell_type": "code",
   "execution_count": 54,
   "id": "simple-hawaiian",
   "metadata": {
    "ExecuteTime": {
     "end_time": "2021-07-11T11:50:45.526484Z",
     "start_time": "2021-07-11T11:50:45.518663Z"
    }
   },
   "outputs": [
    {
     "data": {
      "text/plain": [
       "453234.4968369023"
      ]
     },
     "execution_count": 54,
     "metadata": {},
     "output_type": "execute_result"
    }
   ],
   "source": [
    "np.linalg.norm(v)"
   ]
  },
  {
   "cell_type": "code",
   "execution_count": 55,
   "id": "electric-airline",
   "metadata": {
    "ExecuteTime": {
     "end_time": "2021-07-11T11:51:13.964842Z",
     "start_time": "2021-07-11T11:51:13.961540Z"
    }
   },
   "outputs": [],
   "source": [
    "v = np.array([3, 4])"
   ]
  },
  {
   "cell_type": "code",
   "execution_count": 56,
   "id": "raised-cancellation",
   "metadata": {
    "ExecuteTime": {
     "end_time": "2021-07-11T11:51:15.363579Z",
     "start_time": "2021-07-11T11:51:15.355512Z"
    }
   },
   "outputs": [
    {
     "data": {
      "text/plain": [
       "array([3, 4])"
      ]
     },
     "execution_count": 56,
     "metadata": {},
     "output_type": "execute_result"
    }
   ],
   "source": [
    "v"
   ]
  },
  {
   "cell_type": "code",
   "execution_count": 57,
   "id": "upset-andorra",
   "metadata": {
    "ExecuteTime": {
     "end_time": "2021-07-11T11:51:27.532830Z",
     "start_time": "2021-07-11T11:51:27.527463Z"
    }
   },
   "outputs": [
    {
     "data": {
      "text/plain": [
       "5.0"
      ]
     },
     "execution_count": 57,
     "metadata": {},
     "output_type": "execute_result"
    }
   ],
   "source": [
    "np.sqrt(3**2 + 4**2)"
   ]
  },
  {
   "cell_type": "code",
   "execution_count": 58,
   "id": "marked-steal",
   "metadata": {
    "ExecuteTime": {
     "end_time": "2021-07-11T11:51:49.199417Z",
     "start_time": "2021-07-11T11:51:49.193727Z"
    }
   },
   "outputs": [
    {
     "data": {
      "text/plain": [
       "5.0"
      ]
     },
     "execution_count": 58,
     "metadata": {},
     "output_type": "execute_result"
    }
   ],
   "source": [
    "np.linalg.norm(v)"
   ]
  },
  {
   "cell_type": "code",
   "execution_count": 65,
   "id": "controversial-female",
   "metadata": {
    "ExecuteTime": {
     "end_time": "2021-07-11T15:45:26.898904Z",
     "start_time": "2021-07-11T15:45:26.895687Z"
    }
   },
   "outputs": [],
   "source": [
    "a = np.array([1,2])"
   ]
  },
  {
   "cell_type": "code",
   "execution_count": 66,
   "id": "rolled-daniel",
   "metadata": {
    "ExecuteTime": {
     "end_time": "2021-07-11T15:45:27.015946Z",
     "start_time": "2021-07-11T15:45:27.009475Z"
    }
   },
   "outputs": [
    {
     "data": {
      "text/plain": [
       "array([1, 2])"
      ]
     },
     "execution_count": 66,
     "metadata": {},
     "output_type": "execute_result"
    }
   ],
   "source": [
    "a"
   ]
  },
  {
   "cell_type": "code",
   "execution_count": 67,
   "id": "sitting-shield",
   "metadata": {
    "ExecuteTime": {
     "end_time": "2021-07-11T15:45:27.177635Z",
     "start_time": "2021-07-11T15:45:27.172763Z"
    }
   },
   "outputs": [],
   "source": [
    "b = np.array([3,4])"
   ]
  },
  {
   "cell_type": "code",
   "execution_count": 68,
   "id": "lesbian-solomon",
   "metadata": {
    "ExecuteTime": {
     "end_time": "2021-07-11T15:45:27.958460Z",
     "start_time": "2021-07-11T15:45:27.951719Z"
    }
   },
   "outputs": [
    {
     "data": {
      "text/plain": [
       "array([3, 4])"
      ]
     },
     "execution_count": 68,
     "metadata": {},
     "output_type": "execute_result"
    }
   ],
   "source": [
    "b"
   ]
  },
  {
   "cell_type": "code",
   "execution_count": 69,
   "id": "large-channels",
   "metadata": {
    "ExecuteTime": {
     "end_time": "2021-07-11T15:45:29.689707Z",
     "start_time": "2021-07-11T15:45:29.683366Z"
    }
   },
   "outputs": [
    {
     "data": {
      "text/plain": [
       "array([4, 6])"
      ]
     },
     "execution_count": 69,
     "metadata": {},
     "output_type": "execute_result"
    }
   ],
   "source": [
    "a+b"
   ]
  },
  {
   "cell_type": "code",
   "execution_count": 72,
   "id": "atlantic-allen",
   "metadata": {
    "ExecuteTime": {
     "end_time": "2021-07-11T15:45:58.093530Z",
     "start_time": "2021-07-11T15:45:58.087055Z"
    }
   },
   "outputs": [
    {
     "data": {
      "text/plain": [
       "array([3, 8])"
      ]
     },
     "execution_count": 72,
     "metadata": {},
     "output_type": "execute_result"
    }
   ],
   "source": [
    "a*b"
   ]
  },
  {
   "cell_type": "code",
   "execution_count": 73,
   "id": "dominican-destination",
   "metadata": {
    "ExecuteTime": {
     "end_time": "2021-07-11T15:46:31.278052Z",
     "start_time": "2021-07-11T15:46:31.269332Z"
    }
   },
   "outputs": [
    {
     "data": {
      "text/plain": [
       "11"
      ]
     },
     "execution_count": 73,
     "metadata": {},
     "output_type": "execute_result"
    }
   ],
   "source": [
    "np.dot(a,b)"
   ]
  },
  {
   "cell_type": "code",
   "execution_count": null,
   "id": "printable-resident",
   "metadata": {},
   "outputs": [],
   "source": [
    "[1,2]\n",
    "[3,4]\n",
    "\n",
    "3 + 8 = 11"
   ]
  },
  {
   "cell_type": "code",
   "execution_count": 74,
   "id": "subtle-administrator",
   "metadata": {
    "ExecuteTime": {
     "end_time": "2021-07-11T15:47:21.874507Z",
     "start_time": "2021-07-11T15:47:21.868282Z"
    }
   },
   "outputs": [],
   "source": [
    "v = np.array([1,2,3])\n",
    "u = np.array([4,5,6])"
   ]
  },
  {
   "cell_type": "code",
   "execution_count": 75,
   "id": "canadian-sarah",
   "metadata": {
    "ExecuteTime": {
     "end_time": "2021-07-11T15:47:30.311695Z",
     "start_time": "2021-07-11T15:47:30.306976Z"
    }
   },
   "outputs": [
    {
     "data": {
      "text/plain": [
       "32"
      ]
     },
     "execution_count": 75,
     "metadata": {},
     "output_type": "execute_result"
    }
   ],
   "source": [
    "np.dot(v, u)"
   ]
  },
  {
   "cell_type": "code",
   "execution_count": 76,
   "id": "acoustic-macro",
   "metadata": {
    "ExecuteTime": {
     "end_time": "2021-07-11T15:47:41.607571Z",
     "start_time": "2021-07-11T15:47:41.601000Z"
    }
   },
   "outputs": [
    {
     "data": {
      "text/plain": [
       "32"
      ]
     },
     "execution_count": 76,
     "metadata": {},
     "output_type": "execute_result"
    }
   ],
   "source": [
    "1*4 + 2*5+3*6"
   ]
  },
  {
   "cell_type": "code",
   "execution_count": 78,
   "id": "scenic-natural",
   "metadata": {
    "ExecuteTime": {
     "end_time": "2021-07-11T15:47:59.002907Z",
     "start_time": "2021-07-11T15:47:58.994720Z"
    }
   },
   "outputs": [
    {
     "data": {
      "text/plain": [
       "32"
      ]
     },
     "execution_count": 78,
     "metadata": {},
     "output_type": "execute_result"
    }
   ],
   "source": [
    "sum(u*v)"
   ]
  },
  {
   "cell_type": "code",
   "execution_count": 81,
   "id": "nervous-mixture",
   "metadata": {
    "ExecuteTime": {
     "end_time": "2021-07-11T16:09:57.480909Z",
     "start_time": "2021-07-11T16:09:57.451805Z"
    }
   },
   "outputs": [
    {
     "data": {
      "text/plain": [
       "array([4, 5, 6])"
      ]
     },
     "execution_count": 81,
     "metadata": {},
     "output_type": "execute_result"
    }
   ],
   "source": [
    "u"
   ]
  },
  {
   "cell_type": "code",
   "execution_count": 82,
   "id": "historical-motion",
   "metadata": {
    "ExecuteTime": {
     "end_time": "2021-07-11T16:10:00.087168Z",
     "start_time": "2021-07-11T16:10:00.078398Z"
    }
   },
   "outputs": [
    {
     "data": {
      "text/plain": [
       "array([1, 2, 3])"
      ]
     },
     "execution_count": 82,
     "metadata": {},
     "output_type": "execute_result"
    }
   ],
   "source": [
    "v"
   ]
  },
  {
   "cell_type": "markdown",
   "id": "august-brake",
   "metadata": {},
   "source": [
    "$$ \\textbf{u}\\cdot\\textbf{v} = |\\textbf{u}||\\textbf{v}|cos(\\theta)$$\n",
    "$$ cos(\\theta) = \\frac{\\textbf{u} \\cdot \\textbf{v}}{|\\textbf{u}||\\textbf{v}|}$$ \n"
   ]
  },
  {
   "cell_type": "code",
   "execution_count": 83,
   "id": "accepted-headquarters",
   "metadata": {
    "ExecuteTime": {
     "end_time": "2021-07-11T16:10:20.268406Z",
     "start_time": "2021-07-11T16:10:20.260551Z"
    }
   },
   "outputs": [],
   "source": [
    "dot_product_uv = np.dot(u,v )"
   ]
  },
  {
   "cell_type": "code",
   "execution_count": 84,
   "id": "hispanic-tuesday",
   "metadata": {
    "ExecuteTime": {
     "end_time": "2021-07-11T16:10:24.221698Z",
     "start_time": "2021-07-11T16:10:24.217103Z"
    }
   },
   "outputs": [
    {
     "data": {
      "text/plain": [
       "32"
      ]
     },
     "execution_count": 84,
     "metadata": {},
     "output_type": "execute_result"
    }
   ],
   "source": [
    "dot_product_uv"
   ]
  },
  {
   "cell_type": "code",
   "execution_count": 85,
   "id": "lightweight-bundle",
   "metadata": {
    "ExecuteTime": {
     "end_time": "2021-07-11T16:10:38.805743Z",
     "start_time": "2021-07-11T16:10:38.795016Z"
    }
   },
   "outputs": [],
   "source": [
    "norm_u = np.linalg.norm(u)"
   ]
  },
  {
   "cell_type": "code",
   "execution_count": 86,
   "id": "needed-pasta",
   "metadata": {
    "ExecuteTime": {
     "end_time": "2021-07-11T16:10:41.726901Z",
     "start_time": "2021-07-11T16:10:41.721637Z"
    }
   },
   "outputs": [
    {
     "data": {
      "text/plain": [
       "8.774964387392123"
      ]
     },
     "execution_count": 86,
     "metadata": {},
     "output_type": "execute_result"
    }
   ],
   "source": [
    "norm_u"
   ]
  },
  {
   "cell_type": "code",
   "execution_count": 87,
   "id": "judicial-cleanup",
   "metadata": {
    "ExecuteTime": {
     "end_time": "2021-07-11T16:10:49.623814Z",
     "start_time": "2021-07-11T16:10:49.619639Z"
    }
   },
   "outputs": [],
   "source": [
    "norm_v = np.linalg.norm(v)"
   ]
  },
  {
   "cell_type": "code",
   "execution_count": 88,
   "id": "manual-counter",
   "metadata": {
    "ExecuteTime": {
     "end_time": "2021-07-11T16:10:51.585578Z",
     "start_time": "2021-07-11T16:10:51.577454Z"
    }
   },
   "outputs": [
    {
     "data": {
      "text/plain": [
       "3.7416573867739413"
      ]
     },
     "execution_count": 88,
     "metadata": {},
     "output_type": "execute_result"
    }
   ],
   "source": [
    "norm_v"
   ]
  },
  {
   "cell_type": "code",
   "execution_count": 89,
   "id": "neither-printer",
   "metadata": {
    "ExecuteTime": {
     "end_time": "2021-07-11T16:11:18.001492Z",
     "start_time": "2021-07-11T16:11:17.992520Z"
    }
   },
   "outputs": [],
   "source": [
    "cos_theta = dot_product_uv/(norm_u*norm_v)"
   ]
  },
  {
   "cell_type": "code",
   "execution_count": 90,
   "id": "ahead-gospel",
   "metadata": {
    "ExecuteTime": {
     "end_time": "2021-07-11T16:11:20.700162Z",
     "start_time": "2021-07-11T16:11:20.692040Z"
    }
   },
   "outputs": [
    {
     "data": {
      "text/plain": [
       "0.9746318461970762"
      ]
     },
     "execution_count": 90,
     "metadata": {},
     "output_type": "execute_result"
    }
   ],
   "source": [
    "cos_theta"
   ]
  },
  {
   "cell_type": "code",
   "execution_count": 91,
   "id": "verified-meaning",
   "metadata": {
    "ExecuteTime": {
     "end_time": "2021-07-11T16:11:37.352012Z",
     "start_time": "2021-07-11T16:11:37.341772Z"
    }
   },
   "outputs": [
    {
     "data": {
      "text/plain": [
       "0.2257261285527342"
      ]
     },
     "execution_count": 91,
     "metadata": {},
     "output_type": "execute_result"
    }
   ],
   "source": [
    "np.arccos(cos_theta)"
   ]
  },
  {
   "cell_type": "code",
   "execution_count": null,
   "id": "younger-vietnam",
   "metadata": {},
   "outputs": [],
   "source": [
    "degrees = radians * 180/pi"
   ]
  },
  {
   "cell_type": "code",
   "execution_count": 92,
   "id": "organized-classic",
   "metadata": {
    "ExecuteTime": {
     "end_time": "2021-07-11T16:12:35.419381Z",
     "start_time": "2021-07-11T16:12:35.411980Z"
    }
   },
   "outputs": [
    {
     "data": {
      "text/plain": [
       "3.141592653589793"
      ]
     },
     "execution_count": 92,
     "metadata": {},
     "output_type": "execute_result"
    }
   ],
   "source": [
    "np.pi"
   ]
  },
  {
   "cell_type": "code",
   "execution_count": 93,
   "id": "agreed-small",
   "metadata": {
    "ExecuteTime": {
     "end_time": "2021-07-11T16:12:38.949997Z",
     "start_time": "2021-07-11T16:12:38.946448Z"
    }
   },
   "outputs": [],
   "source": [
    "theta_degrees = np.arccos(cos_theta)*180/np.pi"
   ]
  },
  {
   "cell_type": "code",
   "execution_count": 94,
   "id": "solved-memphis",
   "metadata": {
    "ExecuteTime": {
     "end_time": "2021-07-11T16:12:43.947943Z",
     "start_time": "2021-07-11T16:12:43.939787Z"
    }
   },
   "outputs": [
    {
     "data": {
      "text/plain": [
       "12.933154491899135"
      ]
     },
     "execution_count": 94,
     "metadata": {},
     "output_type": "execute_result"
    }
   ],
   "source": [
    "theta_degrees"
   ]
  },
  {
   "cell_type": "code",
   "execution_count": 96,
   "id": "union-sympathy",
   "metadata": {
    "ExecuteTime": {
     "end_time": "2021-07-11T16:13:05.314522Z",
     "start_time": "2021-07-11T16:13:05.024390Z"
    }
   },
   "outputs": [],
   "source": [
    "import matplotlib.pyplot as plt"
   ]
  },
  {
   "cell_type": "code",
   "execution_count": 106,
   "id": "extraordinary-harvey",
   "metadata": {
    "ExecuteTime": {
     "end_time": "2021-07-11T16:23:18.163026Z",
     "start_time": "2021-07-11T16:23:18.155352Z"
    }
   },
   "outputs": [],
   "source": [
    "u = np.array([1,2])\n",
    "v = np.array([-2,1])\n",
    "origin = np.array([0,0])\n",
    "dot_product_uv = np.dot(u,v )\n",
    "norm_u = np.linalg.norm(u)\n",
    "norm_v = np.linalg.norm(v)\n",
    "cos_theta = dot_product_uv/(norm_u*norm_v)\n",
    "theta_radians = np.arccos(cos_theta)\n",
    "theta_degrees = np.arccos(cos_theta)*180/np.pi\n"
   ]
  },
  {
   "cell_type": "code",
   "execution_count": 107,
   "id": "intimate-twelve",
   "metadata": {
    "ExecuteTime": {
     "end_time": "2021-07-11T16:23:19.690271Z",
     "start_time": "2021-07-11T16:23:19.685310Z"
    }
   },
   "outputs": [
    {
     "data": {
      "text/plain": [
       "90.0"
      ]
     },
     "execution_count": 107,
     "metadata": {},
     "output_type": "execute_result"
    }
   ],
   "source": [
    "theta_degrees"
   ]
  },
  {
   "cell_type": "code",
   "execution_count": 108,
   "id": "annoying-durham",
   "metadata": {
    "ExecuteTime": {
     "end_time": "2021-07-11T16:23:20.589982Z",
     "start_time": "2021-07-11T16:23:20.383160Z"
    }
   },
   "outputs": [
    {
     "data": {
      "text/plain": [
       "<matplotlib.quiver.Quiver at 0x7ff28003b070>"
      ]
     },
     "execution_count": 108,
     "metadata": {},
     "output_type": "execute_result"
    },
    {
     "data": {
      "image/png": "[encoded data removed]",
      "text/plain": [
       "<Figure size 432x288 with 1 Axes>"
      ]
     },
     "metadata": {
      "needs_background": "light"
     },
     "output_type": "display_data"
    }
   ],
   "source": [
    "plt.quiver(origin, origin, u, v, scale=21)"
   ]
  },
  {
   "cell_type": "code",
   "execution_count": null,
   "id": "monthly-employee",
   "metadata": {},
   "outputs": [],
   "source": []
  }
 ],
 "metadata": {
  "kernelspec": {
   "display_name": "Python 3",
   "language": "python",
   "name": "python3"
  },
  "language_info": {
   "codemirror_mode": {
    "name": "ipython",
    "version": 3
   },
   "file_extension": ".py",
   "mimetype": "text/x-python",
   "name": "python",
   "nbconvert_exporter": "python",
   "pygments_lexer": "ipython3",
   "version": "3.9.1"
  },
  "varInspector": {
   "cols": {
    "lenName": 16,
    "lenType": 16,
    "lenVar": 40
   },
   "kernels_config": {
    "python": {
     "delete_cmd_postfix": "",
     "delete_cmd_prefix": "del ",
     "library": "var_list.py",
     "varRefreshCmd": "print(var_dic_list())"
    },
    "r": {
     "delete_cmd_postfix": ") ",
     "delete_cmd_prefix": "rm(",
     "library": "var_list.r",
     "varRefreshCmd": "cat(var_dic_list()) "
    }
   },
   "types_to_exclude": [
    "module",
    "function",
    "builtin_function_or_method",
    "instance",
    "_Feature"
   ],
   "window_display": false
  }
 },
 "nbformat": 4,
 "nbformat_minor": 5
}
