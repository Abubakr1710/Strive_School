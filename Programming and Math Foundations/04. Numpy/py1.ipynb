{
 "cells": [
  {
   "cell_type": "markdown",
   "id": "9bc647b4",
   "metadata": {},
   "source": [
    "## Remember that the solutions need to be saved int variable provided."
   ]
  },
  {
   "cell_type": "code",
   "execution_count": 2,
   "id": "01ff241f",
   "metadata": {},
   "outputs": [],
   "source": [
    "\n",
    "import numpy as np"
   ]
  },
  {
   "cell_type": "markdown",
   "id": "120ffc53",
   "metadata": {
    "deletable": false,
    "editable": false,
    "nbgrader": {
     "cell_type": "markdown",
     "checksum": "1a39df2a0ee2ece9e42fc92195613df8",
     "grade": false,
     "grade_id": "cell-ae105ff48d81e52c",
     "locked": true,
     "schema_version": 3,
     "solution": false,
     "task": false
    }
   },
   "source": [
    "**13. Create a 10x10 array with random values and find the minimum and maximum values**"
   ]
  },
  {
   "cell_type": "code",
   "execution_count": 3,
   "id": "4212b05b",
   "metadata": {
    "deletable": false,
    "nbgrader": {
     "cell_type": "code",
     "checksum": "e939193eeb6a59d4260517d4af3eaadb",
     "grade": false,
     "grade_id": "cell-d37d68df72162149",
     "locked": false,
     "schema_version": 3,
     "solution": true,
     "task": false
    }
   },
   "outputs": [
    {
     "data": {
      "text/plain": [
       "array([[0.43703607, 0.99928486, 0.41034619, 0.89000722, 0.5951356 ,\n",
       "        0.34544978, 0.52033996, 0.78814098, 0.03215524, 0.99850614],\n",
       "       [0.36302256, 0.09574345, 0.61756841, 0.825613  , 0.82479947,\n",
       "        0.09016245, 0.3437581 , 0.8260464 , 0.90411777, 0.64828961],\n",
       "       [0.20445145, 0.20756379, 0.06951996, 0.50973671, 0.40010412,\n",
       "        0.67014891, 0.25328562, 0.00916715, 0.88349886, 0.38580309],\n",
       "       [0.99562923, 0.85597087, 0.03777197, 0.14200058, 0.1320561 ,\n",
       "        0.55341716, 0.58397957, 0.98987299, 0.98682148, 0.26627361],\n",
       "       [0.19891155, 0.92263131, 0.07332821, 0.51835583, 0.50935169,\n",
       "        0.55527698, 0.29816602, 0.18717984, 0.40104316, 0.55515521],\n",
       "       [0.59573302, 0.35641091, 0.57672936, 0.88270689, 0.88743818,\n",
       "        0.62744573, 0.36114759, 0.23618182, 0.10016068, 0.094975  ],\n",
       "       [0.87787633, 0.27576143, 0.36209291, 0.41856293, 0.11293487,\n",
       "        0.58059969, 0.86122521, 0.14394764, 0.63453727, 0.05639651],\n",
       "       [0.94109383, 0.65941424, 0.39150688, 0.72363563, 0.87825639,\n",
       "        0.42079496, 0.97398352, 0.78035504, 0.57118424, 0.30155697],\n",
       "       [0.34703664, 0.91272795, 0.72280045, 0.02767495, 0.08619992,\n",
       "        0.63461703, 0.29836893, 0.85679306, 0.55119498, 0.59737091],\n",
       "       [0.11272552, 0.25456396, 0.12073209, 0.88782493, 0.90261013,\n",
       "        0.51254971, 0.0769025 , 0.03632749, 0.6906007 , 0.85101213]])"
      ]
     },
     "execution_count": 3,
     "metadata": {},
     "output_type": "execute_result"
    }
   ],
   "source": [
    "x = np.random.rand(10,10)\n",
    "x"
   ]
  },
  {
   "cell_type": "code",
   "execution_count": 4,
   "id": "ff26a270",
   "metadata": {},
   "outputs": [
    {
     "data": {
      "text/plain": [
       "0.00916714934128049"
      ]
     },
     "execution_count": 4,
     "metadata": {},
     "output_type": "execute_result"
    }
   ],
   "source": [
    "x.min()"
   ]
  },
  {
   "cell_type": "code",
   "execution_count": 5,
   "id": "10355655",
   "metadata": {},
   "outputs": [
    {
     "data": {
      "text/plain": [
       "0.999284856443319"
      ]
     },
     "execution_count": 5,
     "metadata": {},
     "output_type": "execute_result"
    }
   ],
   "source": [
    "x.max()"
   ]
  },
  {
   "cell_type": "markdown",
   "id": "5e7c785c",
   "metadata": {},
   "source": [
    "**15. Create a 2d 10x10 array with 1 on the border and 0 inside**"
   ]
  },
  {
   "cell_type": "code",
   "execution_count": 6,
   "id": "bc7d9773",
   "metadata": {
    "deletable": false,
    "nbgrader": {
     "cell_type": "code",
     "checksum": "4f00b53c9ecc26403bf5bd660c3f033c",
     "grade": false,
     "grade_id": "cell-6584e6c544771f0c",
     "locked": false,
     "schema_version": 3,
     "solution": true,
     "task": false
    }
   },
   "outputs": [],
   "source": [
    "x = np.ones((5,5))\n",
    "x[1:-1,1:-1] = 0"
   ]
  },
  {
   "cell_type": "code",
   "execution_count": 7,
   "id": "1361d911",
   "metadata": {},
   "outputs": [
    {
     "name": "stdout",
     "output_type": "stream",
     "text": [
      "[[1. 1. 1. 1. 1.]\n",
      " [1. 0. 0. 0. 1.]\n",
      " [1. 0. 0. 0. 1.]\n",
      " [1. 0. 0. 0. 1.]\n",
      " [1. 1. 1. 1. 1.]]\n"
     ]
    }
   ],
   "source": [
    "print(x)"
   ]
  },
  {
   "cell_type": "markdown",
   "id": "5e279435",
   "metadata": {},
   "source": [
    "**34. How to get all the dates corresponding to the month of July 2016**"
   ]
  },
  {
   "cell_type": "code",
   "execution_count": 8,
   "id": "99620de8",
   "metadata": {
    "deletable": false,
    "nbgrader": {
     "cell_type": "code",
     "checksum": "0c0c212e8014f00f5ede5ec4ea42e584",
     "grade": false,
     "grade_id": "cell-9784b014be5fdf5a",
     "locked": false,
     "schema_version": 3,
     "solution": true,
     "task": false
    }
   },
   "outputs": [
    {
     "name": "stdout",
     "output_type": "stream",
     "text": [
      "['2016-07-01' '2016-07-02' '2016-07-03' '2016-07-04' '2016-07-05'\n",
      " '2016-07-06' '2016-07-07' '2016-07-08' '2016-07-09' '2016-07-10'\n",
      " '2016-07-11' '2016-07-12' '2016-07-13' '2016-07-14' '2016-07-15'\n",
      " '2016-07-16' '2016-07-17' '2016-07-18' '2016-07-19' '2016-07-20'\n",
      " '2016-07-21' '2016-07-22' '2016-07-23' '2016-07-24' '2016-07-25'\n",
      " '2016-07-26' '2016-07-27' '2016-07-28' '2016-07-29' '2016-07-30'\n",
      " '2016-07-31']\n"
     ]
    }
   ],
   "source": [
    "x = np.arange('2016-07', '2016-08', dtype='datetime64[D]')\n",
    "print(x)"
   ]
  },
  {
   "cell_type": "markdown",
   "id": "d8e224a9",
   "metadata": {},
   "source": [
    "**42. Consider two random arrays based on the normal and uniform distributions 10x10 sol41 and sol42, check if they are equal**"
   ]
  },
  {
   "cell_type": "code",
   "execution_count": 14,
   "id": "a245a3eb",
   "metadata": {},
   "outputs": [
    {
     "name": "stdout",
     "output_type": "stream",
     "text": [
      "[[False False False False False False False False False False]\n",
      " [False False False False False False False False False False]\n",
      " [False False False False False False False False False False]\n",
      " [False False False False False False False False False False]\n",
      " [False False False False False False False False False False]\n",
      " [False False False False False False False False False False]\n",
      " [False False False False False False False False False False]\n",
      " [False False False False False False False False False False]\n",
      " [False False False False False False False False False False]\n",
      " [False False False False False False False False False False]]\n"
     ]
    }
   ],
   "source": [
    "#2 points\n",
    "sol41 = 0\n",
    "sol42 = 0\n",
    "comparisson = 0\n",
    "# YOUR CODE HERE\n",
    "#2 points\n",
    "sol41 = np.random.uniform(size=(10,10))\n",
    "sol42 = np.random.uniform(size=(10,10))\n",
    "comparisson = sol41 == sol42\n",
    "print(comparisson)"
   ]
  },
  {
   "cell_type": "code",
   "execution_count": 10,
   "id": "5d1c17ed",
   "metadata": {},
   "outputs": [],
   "source": [
    "bol = True\n",
    "\n",
    "for l in comparisson:\n",
    "    for c in l:\n",
    "        if c:\n",
    "            bol = False\n",
    "\n",
    "\n",
    "assert bol"
   ]
  },
  {
   "cell_type": "markdown",
   "id": "d3a8ce54",
   "metadata": {},
   "source": [
    "**72. How to swap two rows of an array?** "
   ]
  },
  {
   "cell_type": "code",
   "execution_count": null,
   "id": "1d38f692",
   "metadata": {
    "deletable": false,
    "nbgrader": {
     "cell_type": "code",
     "checksum": "ccca804156ed12777f188de3084a7145",
     "grade": false,
     "grade_id": "cell-079026f268b5211c",
     "locked": false,
     "schema_version": 3,
     "solution": true,
     "task": false
    }
   },
   "outputs": [],
   "source": [
    "#3 points\n",
    "sol5 = np.array([[1,2,3],[4,5,6]])\n",
    "\n",
    "# YOUR CODE HERE\n",
    "raise NotImplementedError()"
   ]
  },
  {
   "cell_type": "code",
   "execution_count": null,
   "id": "58c31b00",
   "metadata": {
    "deletable": false,
    "editable": false,
    "nbgrader": {
     "cell_type": "code",
     "checksum": "1ad68d0086b2abc9dd89dc54d9868d2c",
     "grade": true,
     "grade_id": "cell-e4f878f0864f33bd",
     "locked": true,
     "points": 3,
     "schema_version": 3,
     "solution": false,
     "task": false
    }
   },
   "outputs": [],
   "source": [
    "assert sol5[0][0] == 4\n",
    "assert sol5[0][1] == 5\n",
    "assert sol5[0][2] == 6\n",
    "\n",
    "assert sol5[1][0] == 1\n",
    "assert sol5[1][1] == 2\n",
    "assert sol5[1][2] == 3\n"
   ]
  },
  {
   "cell_type": "markdown",
   "id": "438c1465",
   "metadata": {},
   "source": [
    "**75. How to compute averages using a sliding window over an array?**"
   ]
  },
  {
   "cell_type": "code",
   "execution_count": null,
   "id": "d8294703",
   "metadata": {
    "deletable": false,
    "nbgrader": {
     "cell_type": "code",
     "checksum": "ff4ef295ceace892027e6fce4f7eb266",
     "grade": false,
     "grade_id": "cell-ccafbda4e4cb7996",
     "locked": false,
     "schema_version": 3,
     "solution": true,
     "task": false
    }
   },
   "outputs": [],
   "source": [
    "arr = np.array([1,2,3,4,5,6,7,8,9,10])\n",
    "sol6 = 0\n",
    "# YOUR CODE HERE\n",
    "raise NotImplementedError()\n"
   ]
  },
  {
   "cell_type": "code",
   "execution_count": null,
   "id": "6eec0ee9",
   "metadata": {
    "deletable": false,
    "editable": false,
    "nbgrader": {
     "cell_type": "code",
     "checksum": "fabc3056e9ed22951d83c4012d5ec189",
     "grade": true,
     "grade_id": "cell-1983fc0078a860ff",
     "locked": true,
     "points": 3,
     "schema_version": 3,
     "solution": false,
     "task": false
    }
   },
   "outputs": [],
   "source": [
    "assert sol6[-1] == 5.5\n",
    "assert sol6[0] == 0.1\n",
    "assert sol6[4] == 1.5"
   ]
  },
  {
   "cell_type": "code",
   "execution_count": null,
   "id": "72fe12b0",
   "metadata": {},
   "outputs": [],
   "source": []
  }
 ],
 "metadata": {
  "interpreter": {
   "hash": "c2ad988b83bc3032ab0bc6c9b326315d9b3145f093b7c28f6f9e14e1089dbd73"
  },
  "kernelspec": {
   "display_name": "Python 3.8.8 64-bit ('NLP': conda)",
   "name": "python3"
  },
  "language_info": {
   "codemirror_mode": {
    "name": "ipython",
    "version": 3
   },
   "file_extension": ".py",
   "mimetype": "text/x-python",
   "name": "python",
   "nbconvert_exporter": "python",
   "pygments_lexer": "ipython3",
   "version": "3.9.7"
  }
 },
 "nbformat": 4,
 "nbformat_minor": 5
}
