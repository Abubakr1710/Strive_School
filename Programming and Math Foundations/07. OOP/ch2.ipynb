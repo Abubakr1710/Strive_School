{
 "cells": [
  {
   "cell_type": "code",
   "execution_count": 6,
   "metadata": {},
   "outputs": [
    {
     "name": "stdout",
     "output_type": "stream",
     "text": [
      "    #\n",
      "   ##\n",
      "  ###\n",
      " ####\n",
      "#####\n"
     ]
    }
   ],
   "source": [
    "class Pyramid:\n",
    "    def __init__(self, num):\n",
    "        self.num = num\n",
    "        for i in range(self.num):\n",
    "            print(\" \"*(num - i -1)+\"#\"*(i+1))\n",
    "check = Pyramid(5)"
   ]
  }
 ],
 "metadata": {
  "interpreter": {
   "hash": "d1149800258fca5f77b80b7ad0b39fa29894bab1cbb76b084b2d2d6ed337cc96"
  },
  "kernelspec": {
   "display_name": "Python 3.9.7 64-bit ('ai': conda)",
   "language": "python",
   "name": "python3"
  },
  "language_info": {
   "codemirror_mode": {
    "name": "ipython",
    "version": 3
   },
   "file_extension": ".py",
   "mimetype": "text/x-python",
   "name": "python",
   "nbconvert_exporter": "python",
   "pygments_lexer": "ipython3",
   "version": "3.9.7"
  },
  "orig_nbformat": 4
 },
 "nbformat": 4,
 "nbformat_minor": 2
}
