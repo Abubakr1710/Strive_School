{
 "cells": [
  {
   "cell_type": "markdown",
   "metadata": {},
   "source": [
    "### Exercise 11.2"
   ]
  },
  {
   "cell_type": "markdown",
   "metadata": {},
   "source": [
    "Do the same thing as you did for the previous exercise, but now process the text line by line. This is something that you would have to do if you had to process a very long text (as it is the case)."
   ]
  },
  {
   "cell_type": "code",
   "execution_count": null,
   "metadata": {},
   "outputs": [],
   "source": [
    "# Counting words line by line.\n",
    "fp = open( \"blakepoems.txt\")\n",
    "condition = True\n",
    "result = {}\n",
    "while condition:\n",
    "    text = fp.readline()\n",
    "    if text ==\" \":\n",
    "        condition = False\n",
    "    text = text.lower()\n",
    "    for char in \"?!,.}\\\"')][(&-%\\\\{:\":\n",
    "        text=text.replace(char, \" \")\n",
    "    list_of_words = text.split()\n",
    "\n",
    "    for i in range(len(list_of_words)):\n",
    "        counter=0\n",
    "        for j in range(len(list_of_words)):\n",
    "            if list_of_words[i] == list_of_words[j]:\n",
    "                counter += 1\n",
    "        \n",
    "        if list_of_words[i] in result.keys():\n",
    "            result[list_of_words[i]] += counter\n",
    "        else:\n",
    "            result[list_of_words[i]]  = counter\n",
    "print(result)\n",
    "fp.close()"
   ]
  }
 ],
 "metadata": {
  "interpreter": {
   "hash": "d1149800258fca5f77b80b7ad0b39fa29894bab1cbb76b084b2d2d6ed337cc96"
  },
  "kernelspec": {
   "display_name": "Python 3.9.7 64-bit ('ai': conda)",
   "language": "python",
   "name": "python3"
  },
  "language_info": {
   "name": "python",
   "version": "3.9.7"
  },
  "orig_nbformat": 4
 },
 "nbformat": 4,
 "nbformat_minor": 2
}
