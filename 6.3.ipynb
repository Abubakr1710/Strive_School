{
 "cells": [
  {
   "cell_type": "markdown",
   "metadata": {},
   "source": [
    "**Exercise 6.3:** In the text below, count how often the word \"wood\" occurs (using program code, of course). Capitals and lower case letters may both be used, and you have to consider that the word \"wood\" should be a separate word, and not part of another word. Hint: If you did the exercises from this chapter, you already developed a function that \"cleans\" a text. Combining that function with the `split()` function more or less solves the problem for you."
   ]
  },
  {
   "cell_type": "code",
   "execution_count": 2,
   "metadata": {},
   "outputs": [
    {
     "data": {
      "text/plain": [
       "2"
      ]
     },
     "execution_count": 2,
     "metadata": {},
     "output_type": "execute_result"
    }
   ],
   "source": [
    "text = \"\"\"How much wood would a woodchuck chuck\n",
    "If a woodchuck could chuck wood?\n",
    "He would chuck, he would, as much as he could,\n",
    "And chuck as much as a woodchuck would\n",
    "If a Mr. Smith could chuck wood\\n\\r\\t.\"\"\"\n",
    "# read whole text\n",
    "# create a counter\n",
    "# get rid \\n\n",
    "# get rid of ?. special grammar\n",
    "# lowercase my sentence\n",
    "\"if a woodchuck could chuck wood\"\n",
    "# split the string by some character\n",
    "[\"if\", \"a\", \"woodchuck\"]\n",
    "#check if wood is in the list\n",
    "    # if yes\n",
    "       # counter = counter +1 <--> counter += 1 \n",
    "    # else\n",
    "        #pass\n",
    "#return\n",
    "def wood_counter(text):\n",
    "\n",
    "    clean_text = text.replace(\"\\n\",\" \")\n",
    "    clean_text = text.replace(\"\\r\", \" \")\n",
    "    clean_text = text.replace(\"\\t\", \" \")\n",
    "    clean_text = text.replace(\".\", \" \")\n",
    "\n",
    "    split_text = clean_text.split()\n",
    "\n",
    "    j = 0\n",
    "    for i in split_text:\n",
    "        if i == \"wood\":\n",
    "            j =j + 1\n",
    "    return j\n",
    "\n",
    "wood_counter(text)     "
   ]
  }
 ],
 "metadata": {
  "interpreter": {
   "hash": "d1149800258fca5f77b80b7ad0b39fa29894bab1cbb76b084b2d2d6ed337cc96"
  },
  "kernelspec": {
   "display_name": "Python 3.9.7 64-bit ('ai': conda)",
   "language": "python",
   "name": "python3"
  },
  "language_info": {
   "codemirror_mode": {
    "name": "ipython",
    "version": 3
   },
   "file_extension": ".py",
   "mimetype": "text/x-python",
   "name": "python",
   "nbconvert_exporter": "python",
   "pygments_lexer": "ipython3",
   "version": "3.9.7"
  },
  "orig_nbformat": 4
 },
 "nbformat": 4,
 "nbformat_minor": 2
}
